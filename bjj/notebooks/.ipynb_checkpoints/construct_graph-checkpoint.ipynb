{
 "cells": [
  {
   "cell_type": "code",
   "execution_count": 415,
   "id": "8c380390-ff31-4e64-ae0a-1e77708d9e58",
   "metadata": {},
   "outputs": [],
   "source": [
    "import pandas as pd\n",
    "import networkx as nx\n",
    "import matplotlib.pyplot as plt\n",
    "import numpy as np\n",
    "from tqdm import tqdm\n"
   ]
  },
  {
   "cell_type": "code",
   "execution_count": 408,
   "id": "4bfc966a-ed89-4f09-8fb5-afd0dc298ee7",
   "metadata": {},
   "outputs": [
    {
     "data": {
      "text/html": [
       "<div>\n",
       "<style scoped>\n",
       "    .dataframe tbody tr th:only-of-type {\n",
       "        vertical-align: middle;\n",
       "    }\n",
       "\n",
       "    .dataframe tbody tr th {\n",
       "        vertical-align: top;\n",
       "    }\n",
       "\n",
       "    .dataframe thead th {\n",
       "        text-align: right;\n",
       "    }\n",
       "</style>\n",
       "<table border=\"1\" class=\"dataframe\">\n",
       "  <thead>\n",
       "    <tr style=\"text-align: right;\">\n",
       "      <th></th>\n",
       "      <th>description</th>\n",
       "      <th>properties</th>\n",
       "      <th>tags</th>\n",
       "      <th>code</th>\n",
       "      <th>is_position</th>\n",
       "      <th>is_transition</th>\n",
       "      <th>start_position</th>\n",
       "      <th>end_position</th>\n",
       "      <th>trans_start_node</th>\n",
       "      <th>trans_end_node</th>\n",
       "    </tr>\n",
       "  </thead>\n",
       "  <tbody>\n",
       "    <tr>\n",
       "      <th>0</th>\n",
       "      <td>side ctrl w/ near open elbow and crossface</td>\n",
       "      <td>NaN</td>\n",
       "      <td>side_control top_underhook bottom_supine cross...</td>\n",
       "      <td>Q2aAwQJFazuRQGddznKqcxxSRkbTzoJpbsxEToa1FVGgaY...</td>\n",
       "      <td>1</td>\n",
       "      <td>0</td>\n",
       "      <td>NaN</td>\n",
       "      <td>NaN</td>\n",
       "      <td>NaN</td>\n",
       "      <td>NaN</td>\n",
       "    </tr>\n",
       "    <tr>\n",
       "      <th>1</th>\n",
       "      <td>twister side control</td>\n",
       "      <td>NaN</td>\n",
       "      <td>twister_side top_on_side side_control bottom_s...</td>\n",
       "      <td>DPaUwxULaRrgHtaEvNVYbjuKGFaEwZUHbgt6JaceDeO6d0...</td>\n",
       "      <td>1</td>\n",
       "      <td>0</td>\n",
       "      <td>NaN</td>\n",
       "      <td>NaN</td>\n",
       "      <td>NaN</td>\n",
       "      <td>NaN</td>\n",
       "    </tr>\n",
       "    <tr>\n",
       "      <th>2</th>\n",
       "      <td>north south</td>\n",
       "      <td>NaN</td>\n",
       "      <td>north_south bottom_supine top_kneeling</td>\n",
       "      <td>5oazN44BazJj26drNp17dnJh2VcaN819b3INWBa3QRVQa5...</td>\n",
       "      <td>1</td>\n",
       "      <td>0</td>\n",
       "      <td>NaN</td>\n",
       "      <td>NaN</td>\n",
       "      <td>NaN</td>\n",
       "      <td>NaN</td>\n",
       "    </tr>\n",
       "    <tr>\n",
       "      <th>3</th>\n",
       "      <td>seated back w/ hook on underhook side</td>\n",
       "      <td>NaN</td>\n",
       "      <td>back seatbelt top_seated</td>\n",
       "      <td>LKaAKZNKfQIVOBaENkN7dlLCNcaUNvOWexLiIAerReVhfL...</td>\n",
       "      <td>1</td>\n",
       "      <td>0</td>\n",
       "      <td>NaN</td>\n",
       "      <td>NaN</td>\n",
       "      <td>NaN</td>\n",
       "      <td>NaN</td>\n",
       "    </tr>\n",
       "    <tr>\n",
       "      <th>4</th>\n",
       "      <td>full guard kimura</td>\n",
       "      <td>NaN</td>\n",
       "      <td>full_guard kimura bottom_supine top_kneeling t...</td>\n",
       "      <td>ANaAxzxXaBCzBTaGA5zYbZFiCDaHzPzUaEEKI5bABQEjbs...</td>\n",
       "      <td>1</td>\n",
       "      <td>0</td>\n",
       "      <td>NaN</td>\n",
       "      <td>NaN</td>\n",
       "      <td>NaN</td>\n",
       "      <td>NaN</td>\n",
       "    </tr>\n",
       "  </tbody>\n",
       "</table>\n",
       "</div>"
      ],
      "text/plain": [
       "                                  description properties  \\\n",
       "0  side ctrl w/ near open elbow and crossface        NaN   \n",
       "1                        twister side control        NaN   \n",
       "2                                 north south        NaN   \n",
       "3       seated back w/ hook on underhook side        NaN   \n",
       "4                           full guard kimura        NaN   \n",
       "\n",
       "                                                tags  \\\n",
       "0  side_control top_underhook bottom_supine cross...   \n",
       "1  twister_side top_on_side side_control bottom_s...   \n",
       "2             north_south bottom_supine top_kneeling   \n",
       "3                           back seatbelt top_seated   \n",
       "4  full_guard kimura bottom_supine top_kneeling t...   \n",
       "\n",
       "                                                code  is_position  \\\n",
       "0  Q2aAwQJFazuRQGddznKqcxxSRkbTzoJpbsxEToa1FVGgaY...            1   \n",
       "1  DPaUwxULaRrgHtaEvNVYbjuKGFaEwZUHbgt6JaceDeO6d0...            1   \n",
       "2  5oazN44BazJj26drNp17dnJh2VcaN819b3INWBa3QRVQa5...            1   \n",
       "3  LKaAKZNKfQIVOBaENkN7dlLCNcaUNvOWexLiIAerReVhfL...            1   \n",
       "4  ANaAxzxXaBCzBTaGA5zYbZFiCDaHzPzUaEEKI5bABQEjbs...            1   \n",
       "\n",
       "   is_transition start_position end_position  trans_start_node  trans_end_node  \n",
       "0              0            NaN          NaN               NaN             NaN  \n",
       "1              0            NaN          NaN               NaN             NaN  \n",
       "2              0            NaN          NaN               NaN             NaN  \n",
       "3              0            NaN          NaN               NaN             NaN  \n",
       "4              0            NaN          NaN               NaN             NaN  "
      ]
     },
     "execution_count": 408,
     "metadata": {},
     "output_type": "execute_result"
    }
   ],
   "source": [
    "grapplemap = pd.read_csv('grapplemap_df.csv',dtype={'trans_start_node': 'string', 'trans_end_node': 'string'})\n",
    "positions = grapplemap[grapplemap['is_position'] == 1]\n",
    "transitions = grapplemap[grapplemap['is_transition'] == 1]\n",
    "#\n",
    "grapplemap.head()"
   ]
  },
  {
   "cell_type": "code",
   "execution_count": 437,
   "id": "8a3fbf51-b90a-4132-9ac2-445d1ccf4ea5",
   "metadata": {},
   "outputs": [
    {
     "name": "stderr",
     "output_type": "stream",
     "text": [
      "Processing transitions:   0%|                                                                                                                                        | 0/1485 [00:00<?, ?it/s]/var/folders/qp/20np6w855jbdkfv_j5bk16ww0000gn/T/ipykernel_19103/3013060587.py:25: FutureWarning:\n",
      "\n",
      "Setting an item of incompatible dtype is deprecated and will raise an error in a future version of pandas. Value 'Q2aAwQJFazuRQGddznKqcxxSRkbTzoJpbsxEToa1FVGgaYDSPnfgB7LGfaCxRle1LbLSfnLOSubdIJKoaVL8QsaUMqOmauNOP1azNAPva9NNPnblOlQAauNFN2ffGdOFe9MbPefdOPv1azIfCljpKozGaGIPC8hlHqyEbHICDOijIcBYhKINJsiuEeF7cdJFGMcjFZOPbwMhQcbBHkKwbhN5QNfyEQNIdfL9R4e1IWO0dcL5SggbJuPLd9MvRSgpKHKibTIsQDbQJ4SMbWLG' has dtype incompatible with float64, please explicitly cast to a compatible dtype first.\n",
      "\n",
      "/var/folders/qp/20np6w855jbdkfv_j5bk16ww0000gn/T/ipykernel_19103/3013060587.py:27: FutureWarning:\n",
      "\n",
      "Setting an item of incompatible dtype is deprecated and will raise an error in a future version of pandas. Value 'NGazxiK6azuxOGdazOK3dCwIOLbLzHKHcfwQSyaZFuFUa1BEO7gcCqLze1CmQihdLkLcfhLQUofeMfHIcWNWSlc2PcGzavRoRocBPVGkbaSuQMbvPQF8avTANgfVGkNYfTMfOofLOUvEaJHsCni0JLzgaEH7DFgOG0yjbLHZD3h8HzCdhlI3JXivDYGabCJkHhckFOPbbsMiQgbCG0Loc4OwQufYFkOUeGMORegjJBP4fdMsRqhDJCQjguMKQ9ijKEKubMICQob0JNSAcGLd' has dtype incompatible with float64, please explicitly cast to a compatible dtype first.\n",
      "\n",
      "Processing transitions: 100%|█████████████████████████████████████████████████████████████████████████████████████████████████████████████████████████████| 1485/1485 [34:49<00:00,  1.41s/it]"
     ]
    },
    {
     "name": "stdout",
     "output_type": "stream",
     "text": [
      "Number of nodes: 1433\n",
      "Number of edges: 1493\n"
     ]
    },
    {
     "name": "stderr",
     "output_type": "stream",
     "text": [
      "\n"
     ]
    }
   ],
   "source": [
    "## OG implementation that add positions for any edges that don't have start or end positions as nodes already.\n",
    "\n",
    "# Create a directed graph\n",
    "G = nx.DiGraph()    \n",
    "\n",
    "def find_or_add_node(position,row,G):\n",
    "    # note: doesn't need row\n",
    "    #check if node exists\n",
    "    for node in G.nodes():\n",
    "        if positions_are_equivalent(position,Position(node)):\n",
    "            return node\n",
    "    #makes new node if it doesn't exist\n",
    "    G.add_node(position.code,description='Unknown', tags='Unknown', is_explicit_position=False, from_transition=row['description'])\n",
    "    return position.code\n",
    "    \n",
    "# Add nodes (positions)\n",
    "for _, row in positions.iterrows():\n",
    "    G.add_node(row['code'], description=row['description'], tags=row['tags'], properties=row['properties'],is_explicit_position=True)\n",
    "\n",
    "# Add edges (transitions)\n",
    "\n",
    "#change dtype\n",
    "transitions['trans_start_node'] = transitions['trans_start_node'].astype('string')\n",
    "transitions['trans_end_node'] = transitions['trans_end_node'].astype('string')\n",
    "\n",
    "for idx, row in tqdm(transitions.iterrows(), total=len(transitions), desc=\"Processing transitions\"):\n",
    "    start_pos = Position(row['start_position'])\n",
    "    end_pos = Position(row['end_position'])\n",
    "    \n",
    "    start_node = find_or_add_node(start_pos,row,G)\n",
    "    transitions.loc[idx,'trans_start_node'].astype('string') = start_node\n",
    "    end_node = find_or_add_node(end_pos,row,G)\n",
    "    transitions.loc[idx,'trans_end_node'] = end_node\n",
    "\n",
    "    # Add the edge (transition)\n",
    "    G.add_edge(start_node, end_node, description=row['description'], tags=row['tags'], properties=row['properties'])\n",
    "\n",
    "    #add edge in opposite direction if the move is bidirectional \n",
    "    if type(row['properties']) == str and 'bidirectional' in row['properties']:\n",
    "            G.add_edge(end_node,start_node, description=row['description'], tags=row['tags'], properties=row['properties'])\n",
    "\n",
    "            \n",
    "transitions.to_csv('graph_transitions.csv')\n",
    "# Basic graph information\n",
    "print(f\"Number of nodes: {G.number_of_nodes()}\")\n",
    "print(f\"Number of edges: {G.number_of_edges()}\")"
   ]
  },
  {
   "cell_type": "code",
   "execution_count": 442,
   "id": "6d56ce74-7d59-4367-a889-dfa8c83c163e",
   "metadata": {},
   "outputs": [],
   "source": [
    "# nx.write_gexf(G, \"grapplemap_0805.gexf\")\n",
    "# nx.write_graphml_lxml(G, \"grapplemap_0805.graphml\")\n",
    "\n",
    "# def save_graph_with_all_attributes(G, filename):\n",
    "#     # Ensure all attribute values are of supported types\n",
    "#     for node, data in G.nodes(data=True):\n",
    "#         for key, value in data.items():\n",
    "#             if not isinstance(value, (str, float, bool, int)):\n",
    "#                 G.nodes[node][key] = str(value)\n",
    "\n",
    "#     for u, v, data in G.edges(data=True):\n",
    "#         for key, value in data.items():\n",
    "#             if not isinstance(value, (str, float, bool, int)):\n",
    "#                 G[u][v][key] = str(value)\n",
    "\n",
    "#     # Write the graph to a GraphML file\n",
    "#     nx.write_graphml(G, filename, named_key_ids=True)\n",
    "\n",
    "#     print(f\"Graph saved to {filename} with all attributes.\")\n",
    "\n",
    "# save_graph_with_all_attributes(G, \"grapplemap_0805_attributes.graphml\")\n",
    "\n",
    "g_transitions = pd.read_csv('graph_transitions.csv')\n",
    "\n",
    "G2 = nx.DiGraph()    \n",
    "\n",
    "# Add nodes (positions)\n",
    "for _, row in positions.iterrows():\n",
    "    G2.add_node(row['code'], description=row['description'], tags=row['tags'], properties=row['properties'],is_explicit_position=True)\n",
    "\n",
    "for _, row in g_transitions.iterrows():\n",
    "    # Add the edge (transition)\n",
    "    G2.add_edge(row['trans_start_node'], row['trans_end_node'], description=row['description'], tags=row['tags'], properties=row['properties'])\n",
    "\n",
    "    #add edge in opposite direction if the move is bidirectional \n",
    "    if type(row['properties']) == str and 'bidirectional' in row['properties']:\n",
    "            G2.add_edge(row['trans_end_node'],row['trans_start_node'], description=row['description'], tags=row['tags'], properties=row['properties'])\n",
    "\n"
   ]
  },
  {
   "cell_type": "code",
   "execution_count": 443,
   "id": "c1a4fdd7-ad7a-4636-b559-025ec832e038",
   "metadata": {},
   "outputs": [
    {
     "name": "stdout",
     "output_type": "stream",
     "text": [
      "diff node attributes\n",
      "The graphs are different\n"
     ]
    }
   ],
   "source": [
    "def graphs_are_identical(G1, G2):\n",
    "    # Check if they have the same nodes\n",
    "    if set(G1.nodes()) != set(G2.nodes()):\n",
    "        print('diff nodes')\n",
    "        return False\n",
    "    \n",
    "    # Check if they have the same edges\n",
    "    if set(G1.edges()) != set(G2.edges()):\n",
    "        print('diff edges')\n",
    "        return False\n",
    "    \n",
    "    # Check node attributes\n",
    "    for node in G1.nodes():\n",
    "        if G1.nodes[node] != G2.nodes[node]:\n",
    "            print('diff node attributes')\n",
    "            return False\n",
    "    \n",
    "    # Check edge attributes\n",
    "    for edge in G1.edges():\n",
    "        if G1.edges[edge] != G2.edges[edge]:\n",
    "            print('diff edge attributes')\n",
    "            return False\n",
    "    \n",
    "    return True\n",
    "\n",
    "# Usage\n",
    "# G2 = nx.read_graphml(\"grapplemap_0805_attributes.graphml\")\n",
    "are_identical = graphs_are_identical(G, G2)\n",
    "\n",
    "if are_identical:\n",
    "    print(\"The graphs are exactly the same\")\n",
    "else:\n",
    "    print(\"The graphs are different\")"
   ]
  },
  {
   "cell_type": "code",
   "execution_count": 491,
   "id": "2c62a192-23bd-4d43-b4a4-2ce18123cf9a",
   "metadata": {},
   "outputs": [],
   "source": [
    "transitions_copy.to_csv('matched_transitions.csv')"
   ]
  },
  {
   "cell_type": "code",
   "execution_count": 493,
   "id": "f30380ed-1d38-4caa-bf1e-939d30e484a6",
   "metadata": {},
   "outputs": [
    {
     "name": "stdout",
     "output_type": "stream",
     "text": [
      "Terminal nodes:\n",
      "mono w/ figure four and foot-in-armpit\n",
      "side control w/ near arm pin and far underhook\n",
      "octopus half guard\n",
      "bottom throwing leg up\n",
      "knee on belly vs underhook\n",
      "standing single-leg turned away\n",
      "bottom defeating hip post in closed guard\n",
      "standing w/ body lock\n",
      "gator roll\n",
      "japanese necktie w/ top leg trapped\n",
      "electric chair submission\n",
      "kung fu move w/ leg trapped\n",
      "new jersey\n",
      "postured up new jersey w/ overhook\n",
      "butterfly 2-on-1\n",
      "halfway butterfly overhook sweep\n",
      "back step pass\n",
      "high mount w/ one arm trapped\n",
      "mounted triangle\n",
      "¼ clinch\n",
      "mount w/ double unders\n",
      "mount w/ head&arm\n",
      "seated full guard guillotine\n",
      "back w/ arm trapped\n",
      "new york\n",
      "lister v. barnett\n",
      "standing vs darce\n",
      "cocoon w/ overhook\n",
      "over/under cocoon w/ head on overhook side\n",
      "japanese necktie\n",
      "kneeling darce vs half guard w/ underhook\n",
      "middle double bag\n",
      "postured up omoplata\n",
      "top shooting for underhooks in butterfly\n",
      "basic omoplata finish\n",
      "spider guard w/ shins against biceps\n",
      "completed o-soto-gari\n",
      "side control darce\n",
      "butterflies engaged w/ over/under body lock\n",
      "double knee bar\n",
      "6 o'clock homie\n",
      "arm crush\n",
      "blocked butterfly overhook sweep\n",
      "3/4 mount w/ underhook\n",
      "top lock clinch\n",
      "double bagged chill dog w/o hand on mat\n",
      "invisible  collar w/o hand-on-mat\n",
      "tony montana\n",
      "game over\n",
      "knee knot\n",
      "double unders w/ feet on hips\n",
      "parallel jiu-claw vs locked hands\n",
      "monoplata w/ leg trapped\n",
      "leg drag w/ lockdown\n",
      "turtle crucified w/ one leg\n",
      "standing vs seated single w/ head outside\n",
      "standing vs seated grabbing leg\n",
      "stacked w/ waist lock\n",
      "closed guard w/ 100%\n",
      "side control w/ vice grip vs underhook\n",
      "turned in t-rex vs side vice\n",
      "stepping to side\n",
      "butterfly guillotine\n",
      "double ankle pick\n",
      "full guard kimura vs body-lock\n",
      "switching to judo side\n",
      "no hand pass\n",
      "¾ mount w/ head&arm\n",
      "double leg vs reverse leg\n",
      "standing vs outside ashi\n",
      "butterfly ashi\n",
      "closed guard w/ double under collar\n",
      "boston handshake\n",
      "side control w/ far underhook\n",
      "kata guruma\n",
      "standing single w/ head outside\n",
      "combat base w/ single\n",
      "sweep single\n",
      "back on choke arm side w/ one leg trapped\n",
      "rat guard\n",
      "sliced guard vs cross grip and wrist pin\n",
      "x guard w/o underhook\n",
      "elbow half w/ deep underhook vs whizzer\n",
      "low flying double leg\n",
      "double unders side control vs headlock\n",
      "entering side control w/ kimura\n",
      "half guard kimura\n",
      "rev. mounted triangle-crucifix- kimura\n",
      "mounted turtle w/ double wrist control\n",
      "arm-in guillotine vs single leg\n",
      "new jersey w/ overhook\n",
      "postured up new jersey\n",
      "leg smash pass w/ body lock\n",
      "rnc on side\n",
      "snapped down vs standing head stuff\n",
      "closed guard w/ overhook + collar tie\n",
      "rnc with one hook and hip control\n",
      "north/south vs elbow frame\n",
      "half guard w/ knee pin\n",
      "semi crab w/ over/under ankles\n",
      "caught kick\n",
      "lower-back mounted turtle\n",
      "crab ride w/ ankles vs hand posts\n",
      "level dropped\n",
      "parallel kimura roll\n",
      "leg smash vs pimp-arm\n",
      "z guard w/ neck frame and wrist control\n",
      "crouching w/ one leg over shoulder\n",
      "half guard shell w/ leg grabbed\n",
      "turtle shoulder roll w/ leg\n",
      "...C\n",
      "side ctrl w/ lat trap\n",
      "\n",
      "Total number of terminal nodes: 696\n"
     ]
    }
   ],
   "source": [
    "# Assuming 'G' is your NetworkX DiGraph\n",
    "\n",
    "# Find terminal nodes (nodes with out-degree of 0)\n",
    "terminal_nodes = [node for node, out_degree in G.out_degree() if out_degree == 0]\n",
    "\n",
    "# Print the list of terminal nodes\n",
    "print(\"Terminal nodes:\")\n",
    "\n",
    "for node in terminal_nodes:\n",
    "    if G.nodes[node].get('is_explicit_position') == True:\n",
    "        print(G.nodes[node].get('description'))\n",
    "#     print(type(node))\n",
    "#     print(node['description'])\n",
    "\n",
    "# Print the count of terminal nodes\n",
    "print(f\"\\nTotal number of terminal nodes: {len(terminal_nodes)}\")\n",
    "\n",
    "# If you want to get more information about these terminal positions\n",
    "terminal_positions_info = []\n",
    "for node in terminal_nodes:\n",
    "    node_data = G.nodes[node]\n",
    "    terminal_positions_info.append({\n",
    "        'node': node,\n",
    "        'description': node_data.get('description', 'No description available'),\n",
    "        'tags': node_data.get('tags', []),\n",
    "        'is_explicit_position': node_data.get('is_explicit_position', False)\n",
    "    })\n",
    "\n",
    "# # Print detailed information about terminal positions\n",
    "# print(\"\\nDetailed information about terminal positions:\")\n",
    "# for info in terminal_positions_info:\n",
    "#     print(f\"Node: {info['node']}\")\n",
    "#     print(f\"Description: {info['description']}\")\n",
    "#     print(f\"Tags: {', '.join(info['tags'])}\")\n",
    "#     print(f\"Is Explicit Position: {info['is_explicit_position']}\")\n",
    "#     print()"
   ]
  },
  {
   "cell_type": "code",
   "execution_count": 153,
   "id": "c8fc19e7-2a13-4630-a9f4-9bae7eb11013",
   "metadata": {},
   "outputs": [],
   "source": [
    "def split_69(string):\n",
    "    return [string[i:i+69] for i in range(0, len(string), 69)]"
   ]
  },
  {
   "cell_type": "code",
   "execution_count": 298,
   "id": "7bbd698f-4b35-472f-a6c5-9ae5b3ad30c1",
   "metadata": {},
   "outputs": [],
   "source": [
    "unrelated_position = transitions.iloc[0]['start_position']"
   ]
  },
  {
   "cell_type": "code",
   "execution_count": 390,
   "id": "99728432-ce42-443d-899e-acb1edbf78a9",
   "metadata": {},
   "outputs": [
    {
     "name": "stdout",
     "output_type": "stream",
     "text": [
      "Decoded 46 joints\n"
     ]
    }
   ],
   "source": [
    "import string\n",
    "import numpy as np\n",
    "\n",
    "BASE62_DIGITS = string.digits + string.ascii_lowercase + string.ascii_uppercase\n",
    "\n",
    "def decode_position(encoded_string: str) -> Position:\n",
    "    def base62_to_int(s):\n",
    "        return BASE62_DIGITS.index(s[0]) * 62 + BASE62_DIGITS.index(s[1])\n",
    "\n",
    "    def next_coord():\n",
    "        nonlocal offset\n",
    "        if offset + 2 > len(encoded_string):\n",
    "            raise ValueError(f\"Reached end of string at offset {offset}\")\n",
    "        value = base62_to_int(encoded_string[offset:offset+2]) / 1000\n",
    "        offset += 2\n",
    "        return value\n",
    "\n",
    "    offset = 0\n",
    "    position = {}\n",
    "    \n",
    "    try:\n",
    "        for player in range(2):\n",
    "            for joint in range(23):  # Assuming 23 joints per player\n",
    "                x = next_coord() - 2\n",
    "                y = next_coord()\n",
    "                z = next_coord() - 2\n",
    "                position[(player, joint)] = np.array([x, y, z])\n",
    "    except ValueError as e:\n",
    "        print(f\"Decoding stopped at joint {player * 23 + joint}, coordinate {'xyz'[len(position) % 3]}\")\n",
    "        print(f\"Error: {str(e)}\")\n",
    "        print(f\"Decoded {len(position)} joints completely\")\n",
    "    \n",
    "    return position\n",
    "\n",
    "# Example usage:\n",
    "encoded_pos = transitions[transitions['description'] == 'to honey']['start_position'].iloc[1]\n",
    "\n",
    "decoded_pos = decode_position(encoded_pos)\n",
    "print(f\"Decoded {len(decoded_pos)} joints\")"
   ]
  },
  {
   "cell_type": "code",
   "execution_count": 391,
   "id": "2fc8c00f-6e75-4c34-b4a4-be9f22942ced",
   "metadata": {},
   "outputs": [],
   "source": [
    "from enum import Enum\n",
    "#defining joint class and mirror logic\n",
    "class Joint(Enum):\n",
    "    LeftToe = 0\n",
    "    RightToe = 1\n",
    "    LeftHeel = 2\n",
    "    RightHeel = 3\n",
    "    LeftAnkle = 4\n",
    "    RightAnkle = 5\n",
    "    LeftKnee = 6\n",
    "    RightKnee = 7\n",
    "    LeftHip = 8\n",
    "    RightHip = 9\n",
    "    LeftShoulder = 10\n",
    "    RightShoulder = 11\n",
    "    LeftElbow = 12\n",
    "    RightElbow = 13\n",
    "    LeftWrist = 14\n",
    "    RightWrist = 15\n",
    "    LeftHand = 16\n",
    "    RightHand = 17\n",
    "    LeftFingers = 18\n",
    "    RightFingers = 19\n",
    "    Core = 20\n",
    "    Neck = 21\n",
    "    Head = 22\n",
    "\n",
    "# Create a mapping of joint names to their mirror counterparts\n",
    "MIRROR_JOINTS = {\n",
    "    Joint.LeftToe: Joint.RightToe,\n",
    "    Joint.LeftHeel: Joint.RightHeel,\n",
    "    Joint.LeftAnkle: Joint.RightAnkle,\n",
    "    Joint.LeftKnee: Joint.RightKnee,\n",
    "    Joint.LeftHip: Joint.RightHip,\n",
    "    Joint.LeftShoulder: Joint.RightShoulder,\n",
    "    Joint.LeftElbow: Joint.RightElbow,\n",
    "    Joint.LeftWrist: Joint.RightWrist,\n",
    "    Joint.LeftHand: Joint.RightHand,\n",
    "    Joint.LeftFingers: Joint.RightFingers,\n",
    "}\n",
    "# Add reverse mappings\n",
    "MIRROR_JOINTS.update({v: k for k, v in MIRROR_JOINTS.items()})\n",
    "\n",
    "def mirror_joint(joint: int) -> int:\n",
    "    joint_enum = Joint(joint)\n",
    "    if joint_enum in MIRROR_JOINTS:\n",
    "        return MIRROR_JOINTS[joint_enum].value\n",
    "    return joint"
   ]
  },
  {
   "cell_type": "code",
   "execution_count": 461,
   "id": "20a0af82-eda6-4aa8-838e-e657b0beccd8",
   "metadata": {},
   "outputs": [
    {
     "name": "stdout",
     "output_type": "stream",
     "text": [
      "Positions are equivalent: False\n"
     ]
    }
   ],
   "source": [
    "import numpy as np\n",
    "from scipy.spatial.transform import Rotation\n",
    "\n",
    "class Position:\n",
    "    def __init__(self, input):\n",
    "        if type(input) == str:\n",
    "            self.code = input\n",
    "            self.coords_dict = decode_position(input)\n",
    "        elif type(input) == dict:\n",
    "            self.coords_dict = input\n",
    "            \n",
    "\n",
    "    def __getitem__(self, key):\n",
    "        return self.coords_dict[key]\n",
    "\n",
    "    def items(self):\n",
    "        return self.coords_dict.items()\n",
    "\n",
    "def mirror_position(pos):\n",
    "    mirrored = Position({k: np.array([-v[0], v[1], v[2]]) for k, v in pos.items()})\n",
    "    return mirrored\n",
    "\n",
    "def swap_players(pos):\n",
    "    swapped = Position({(1-k[0], k[1]): v for k, v in pos.items()})\n",
    "    return swapped\n",
    "\n",
    "def center(pos):\n",
    "    return (pos[(0, 0)] + pos[(1, 0)]) / 2  # Assuming joint 0 is the core\n",
    "\n",
    "def heading(pos):\n",
    "    return pos[(1, 0)] - pos[(0, 0)]  # Vector from player 0 core to player 1 core\n",
    "\n",
    "def normal_rotation(pos):\n",
    "    h = heading(pos)\n",
    "    return np.arctan2(h[2], h[0])\n",
    "\n",
    "def translate(pos, offset):\n",
    "    translated = Position({k: v + offset for k, v in pos.items()})\n",
    "    return translated\n",
    "\n",
    "def rotate(pos, angle):\n",
    "    r = Rotation.from_rotvec([0, angle, 0])\n",
    "    rotated = Position({k: r.apply(v) for k, v in pos.items()})\n",
    "    return rotated\n",
    "\n",
    "def orient_canonically(pos, should_mirror=False):\n",
    "    if should_mirror:\n",
    "        pos = mirror_position(pos)\n",
    "    \n",
    "    # Center the position\n",
    "    c = center(pos)\n",
    "    pos = translate(pos, -c)\n",
    "    \n",
    "    # Rotate to align with x-axis\n",
    "    angle = normal_rotation(pos)\n",
    "    pos = rotate(pos, -angle)\n",
    "    \n",
    "    return pos\n",
    "\n",
    "def basically_same(pos1, pos2, tolerance=0.2):\n",
    "    return all(np.sum((pos1[k] - pos2[k])**2) < tolerance for k in pos1.coords_dict.keys())\n",
    "\n",
    "def positions_are_equivalent(pos1, pos2):\n",
    "    \n",
    "    # Try without mirroring\n",
    "    oriented1 = orient_canonically(pos1)\n",
    "    oriented2 = orient_canonically(pos2)\n",
    "    \n",
    "    if basically_same(oriented1, oriented2):\n",
    "        return True\n",
    "    \n",
    "    # Try with mirroring\n",
    "    oriented1_mirrored = orient_canonically(pos1, should_mirror=True)\n",
    "    \n",
    "    if basically_same(oriented1_mirrored, oriented2):\n",
    "        return True\n",
    "    \n",
    "    # Try with player swapping\n",
    "    oriented1_swapped = orient_canonically(swap_players(pos1))\n",
    "    \n",
    "    if basically_same(oriented1_swapped, oriented2):\n",
    "        return True\n",
    "    \n",
    "    # Try with both mirroring and player swapping\n",
    "    oriented1_mirrored_swapped = orient_canonically(swap_players(pos1), should_mirror=True)\n",
    "    \n",
    "    if basically_same(oriented1_mirrored_swapped, oriented2):\n",
    "        return True\n",
    "    \n",
    "    return False\n",
    "\n",
    "# Example usage:\n",
    "\n",
    "pos1 = Position(imanari)\n",
    "pos2 = Position(honey)\n",
    "\n",
    "#pos2 = Position(decode_position(unrelated_position))\n",
    "\n",
    "result = positions_are_equivalent(pos1, pos2)\n",
    "print(f\"Positions are equivalent: {result}\")"
   ]
  },
  {
   "cell_type": "code",
   "execution_count": 464,
   "id": "3934d3ec-e72e-48ef-afc1-387e6402bf46",
   "metadata": {},
   "outputs": [
    {
     "data": {
      "text/html": [
       "<div>\n",
       "<style scoped>\n",
       "    .dataframe tbody tr th:only-of-type {\n",
       "        vertical-align: middle;\n",
       "    }\n",
       "\n",
       "    .dataframe tbody tr th {\n",
       "        vertical-align: top;\n",
       "    }\n",
       "\n",
       "    .dataframe thead th {\n",
       "        text-align: right;\n",
       "    }\n",
       "</style>\n",
       "<table border=\"1\" class=\"dataframe\">\n",
       "  <thead>\n",
       "    <tr style=\"text-align: right;\">\n",
       "      <th></th>\n",
       "      <th>description</th>\n",
       "      <th>properties</th>\n",
       "      <th>tags</th>\n",
       "      <th>code</th>\n",
       "      <th>is_position</th>\n",
       "      <th>is_transition</th>\n",
       "      <th>start_position</th>\n",
       "      <th>end_position</th>\n",
       "      <th>trans_start_node</th>\n",
       "      <th>trans_end_node</th>\n",
       "    </tr>\n",
       "  </thead>\n",
       "  <tbody>\n",
       "    <tr>\n",
       "      <th>1616</th>\n",
       "      <td>far knee finish</td>\n",
       "      <td>NaN</td>\n",
       "      <td>NaN</td>\n",
       "      <td>['Kjbf9jYHaX2kJ7eF7XU5aM2TJUdm7mVWbJ2jIWaY0WUl...</td>\n",
       "      <td>0</td>\n",
       "      <td>1</td>\n",
       "      <td>Kjbf9jYHaX2kJ7eF7XU5aM2TJUdm7mVWbJ2jIWaY0WUlhJ...</td>\n",
       "      <td>zUaRC0EhazN7BkeaCjBgaELVBUcRCeCqbqL7HKaYy7IdcR...</td>\n",
       "      <td>Kjbf9jYHaX2kJ7eF7XU5aM2TJUdm7mVWbJ2jIWaY0WUlhJ...</td>\n",
       "      <td>zUaRC0EhazN7BkeaCjBgaELVBUcRCeCqbqL7HKaYy7IdcR...</td>\n",
       "    </tr>\n",
       "  </tbody>\n",
       "</table>\n",
       "</div>"
      ],
      "text/plain": [
       "          description properties tags  \\\n",
       "1616  far knee finish        NaN  NaN   \n",
       "\n",
       "                                                   code  is_position  \\\n",
       "1616  ['Kjbf9jYHaX2kJ7eF7XU5aM2TJUdm7mVWbJ2jIWaY0WUl...            0   \n",
       "\n",
       "      is_transition                                     start_position  \\\n",
       "1616              1  Kjbf9jYHaX2kJ7eF7XU5aM2TJUdm7mVWbJ2jIWaY0WUlhJ...   \n",
       "\n",
       "                                           end_position  \\\n",
       "1616  zUaRC0EhazN7BkeaCjBgaELVBUcRCeCqbqL7HKaYy7IdcR...   \n",
       "\n",
       "                                       trans_start_node  \\\n",
       "1616  Kjbf9jYHaX2kJ7eF7XU5aM2TJUdm7mVWbJ2jIWaY0WUlhJ...   \n",
       "\n",
       "                                         trans_end_node  \n",
       "1616  zUaRC0EhazN7BkeaCjBgaELVBUcRCeCqbqL7HKaYy7IdcR...  "
      ]
     },
     "execution_count": 464,
     "metadata": {},
     "output_type": "execute_result"
    }
   ],
   "source": [
    "transitions[transitions['trans_start_node'] == honey]#.iloc[0]"
   ]
  },
  {
   "cell_type": "code",
   "execution_count": 487,
   "id": "d506cb4c-4daa-425e-ab86-d9e4cb5e2489",
   "metadata": {},
   "outputs": [
    {
     "data": {
      "text/plain": [
       "False"
      ]
     },
     "execution_count": 487,
     "metadata": {},
     "output_type": "execute_result"
    }
   ],
   "source": [
    "imanari = positions[positions['description'] == 'sweep single']['code'].iloc[0]\n",
    "honey = transitions[transitions['description'] == 'far knee finish']['trans_start_node'].iloc[0]\n",
    "\n",
    "positions_are_equivalent(Position(decode_position(imanari)),Position(decode_position(honey)))"
   ]
  },
  {
   "cell_type": "code",
   "execution_count": 475,
   "id": "2809abd9-d324-4e87-978e-0329bf0765e0",
   "metadata": {},
   "outputs": [],
   "source": [
    "# # Step 1: Decode the strings into positions\n",
    "imanari = positions[positions['description'] == 'completed imanari roll']['code'].iloc[0]\n",
    "honey = transitions[transitions['description'] == 'to honey']['start_position'].iloc[1]\n",
    "\n",
    "# imanari = positions[positions['description'] == 'flanking after standing drag']['code'].iloc[0]\n",
    "# honey = transitions[transitions['description'] == 'crotch rocket']['start_position'].iloc[0]\n",
    "\n",
    "\n",
    "# pos1 = decode_position(imanari)\n",
    "# pos2 = decode_position(honey)\n",
    "\n",
    "# def positions_equivalent(pos1,pos2):\n",
    "#     # Step 1: Decode the strings into positions\n",
    "#     pos1 = decode_position(pos1)\n",
    "#     pos2 = decode_position(pos2)\n",
    "#     # Step 2: Orient the positions canonically (this makes them relative)\n",
    "#     relative_pos1 = orient_canonically_with_mirror(pos1)\n",
    "#     relative_pos2 = orient_canonically_with_mirror(pos2)\n",
    "    \n",
    "#     # Step 3: Check if the positions are equivalent\n",
    "#     if positions_are_equivalent(relative_pos1, relative_pos2):\n",
    "#         print(\"The positions are equivalent\")\n",
    "#     else:\n",
    "#         print(\"The positions are different\")\n",
    "    \n",
    "#     # Alternatively, you can use is_reoriented for more detailed information\n",
    "#     reorientation = is_reoriented(relative_pos1, relative_pos2)\n",
    "#     if reorientation is not None:\n",
    "#         print(\"The positions are equivalent with the following reorientation:\")\n",
    "#         print(f\"Angle: {reorientation.reorientation.angle}\")\n",
    "#         print(f\"Offset: {reorientation.reorientation.offset}\")\n",
    "#         print(f\"Mirrored: {reorientation.mirror}\")\n",
    "#         print(f\"Players swapped: {reorientation.swap_players}\")\n",
    "#     else:\n",
    "#         print(\"The positions are different\")"
   ]
  },
  {
   "cell_type": "code",
   "execution_count": 484,
   "id": "699ad54e-bb94-4e4b-8c63-6d28f90c5592",
   "metadata": {},
   "outputs": [
    {
     "data": {
      "text/plain": [
       "False"
      ]
     },
     "execution_count": 484,
     "metadata": {},
     "output_type": "execute_result"
    }
   ],
   "source": [
    "imanari = positions[positions['description'] == 'twister side control']['code'].iloc[0]#\n",
    "honey = transitions[transitions['description'] == 'to north/south']['start_position'].iloc[0]\n",
    "\n",
    "\n",
    "\n",
    "positions_are_equivalent(Position(decode_position(imanari)),Position(decode_position(honey)))"
   ]
  },
  {
   "cell_type": "code",
   "execution_count": 494,
   "id": "aa3119af-fc03-49ef-8625-0c92700e37ec",
   "metadata": {},
   "outputs": [
    {
     "data": {
      "application/vnd.plotly.v1+json": {
       "config": {
        "plotlyServerURL": "https://plot.ly"
       },
       "data": [
        {
         "marker": {
          "color": "blue",
          "size": 5
         },
         "mode": "markers",
         "name": "Joints",
         "scene": "scene",
         "type": "scatter3d",
         "x": [
          0.871,
          1.763,
          0.7970000000000002,
          1.4769999999999999,
          0.8460000000000001,
          1.592,
          0.786,
          1.4929999999999999,
          0.8730000000000002,
          1.089,
          0.6800000000000002,
          0.9889999999999999,
          0.4969999999999999,
          0.9510000000000001,
          0.6419999999999999,
          0.722,
          0.6869999999999998,
          0.6459999999999999,
          0.722,
          0.5419999999999998,
          0.907,
          0.8330000000000002,
          0.8380000000000001
         ],
         "y": [
          0.697,
          0.679,
          0.909,
          0.668,
          0.828,
          0.727,
          0.68,
          1.099,
          1.098,
          1.164,
          1.514,
          1.474,
          1.298,
          1.2,
          1.162,
          1.061,
          1.1,
          1.109,
          0.993,
          1.108,
          1.248,
          1.495,
          1.646
         ],
         "z": [
          1.8210000000000002,
          1.388,
          1.737,
          1.423,
          1.7000000000000002,
          1.387,
          1.302,
          1.198,
          1.362,
          1.3359999999999999,
          0.919,
          0.8769999999999998,
          1.032,
          0.786,
          0.798,
          0.907,
          0.7949999999999999,
          0.9049999999999998,
          0.9089999999999998,
          0.9750000000000001,
          1.1949999999999998,
          0.9020000000000001,
          0.7610000000000001
         ]
        },
        {
         "line": {
          "color": "red",
          "width": 2
         },
         "mode": "lines",
         "name": "LeftToe to LeftAnkle",
         "scene": "scene",
         "type": "scatter3d",
         "x": [
          0.871,
          0.8460000000000001
         ],
         "y": [
          0.697,
          0.828
         ],
         "z": [
          1.8210000000000002,
          1.7000000000000002
         ]
        },
        {
         "line": {
          "color": "red",
          "width": 2
         },
         "mode": "lines",
         "name": "RightToe to RightAnkle",
         "scene": "scene",
         "type": "scatter3d",
         "x": [
          1.763,
          1.592
         ],
         "y": [
          0.679,
          0.727
         ],
         "z": [
          1.388,
          1.387
         ]
        },
        {
         "line": {
          "color": "red",
          "width": 2
         },
         "mode": "lines",
         "name": "LeftHeel to LeftAnkle",
         "scene": "scene",
         "type": "scatter3d",
         "x": [
          0.7970000000000002,
          0.8460000000000001
         ],
         "y": [
          0.909,
          0.828
         ],
         "z": [
          1.737,
          1.7000000000000002
         ]
        },
        {
         "line": {
          "color": "red",
          "width": 2
         },
         "mode": "lines",
         "name": "RightHeel to RightAnkle",
         "scene": "scene",
         "type": "scatter3d",
         "x": [
          1.4769999999999999,
          1.592
         ],
         "y": [
          0.668,
          0.727
         ],
         "z": [
          1.423,
          1.387
         ]
        },
        {
         "line": {
          "color": "red",
          "width": 2
         },
         "mode": "lines",
         "name": "LeftAnkle to LeftKnee",
         "scene": "scene",
         "type": "scatter3d",
         "x": [
          0.8460000000000001,
          0.786
         ],
         "y": [
          0.828,
          0.68
         ],
         "z": [
          1.7000000000000002,
          1.302
         ]
        },
        {
         "line": {
          "color": "red",
          "width": 2
         },
         "mode": "lines",
         "name": "RightAnkle to RightKnee",
         "scene": "scene",
         "type": "scatter3d",
         "x": [
          1.592,
          1.4929999999999999
         ],
         "y": [
          0.727,
          1.099
         ],
         "z": [
          1.387,
          1.198
         ]
        },
        {
         "line": {
          "color": "red",
          "width": 2
         },
         "mode": "lines",
         "name": "LeftKnee to LeftHip",
         "scene": "scene",
         "type": "scatter3d",
         "x": [
          0.786,
          0.8730000000000002
         ],
         "y": [
          0.68,
          1.098
         ],
         "z": [
          1.302,
          1.362
         ]
        },
        {
         "line": {
          "color": "red",
          "width": 2
         },
         "mode": "lines",
         "name": "RightKnee to RightHip",
         "scene": "scene",
         "type": "scatter3d",
         "x": [
          1.4929999999999999,
          1.089
         ],
         "y": [
          1.099,
          1.164
         ],
         "z": [
          1.198,
          1.3359999999999999
         ]
        },
        {
         "line": {
          "color": "red",
          "width": 2
         },
         "mode": "lines",
         "name": "LeftHip to Core",
         "scene": "scene",
         "type": "scatter3d",
         "x": [
          0.8730000000000002,
          0.907
         ],
         "y": [
          1.098,
          1.248
         ],
         "z": [
          1.362,
          1.1949999999999998
         ]
        },
        {
         "line": {
          "color": "red",
          "width": 2
         },
         "mode": "lines",
         "name": "RightHip to Core",
         "scene": "scene",
         "type": "scatter3d",
         "x": [
          1.089,
          0.907
         ],
         "y": [
          1.164,
          1.248
         ],
         "z": [
          1.3359999999999999,
          1.1949999999999998
         ]
        },
        {
         "line": {
          "color": "red",
          "width": 2
         },
         "mode": "lines",
         "name": "Core to Neck",
         "scene": "scene",
         "type": "scatter3d",
         "x": [
          0.907,
          0.8330000000000002
         ],
         "y": [
          1.248,
          1.495
         ],
         "z": [
          1.1949999999999998,
          0.9020000000000001
         ]
        },
        {
         "line": {
          "color": "red",
          "width": 2
         },
         "mode": "lines",
         "name": "Neck to Head",
         "scene": "scene",
         "type": "scatter3d",
         "x": [
          0.8330000000000002,
          0.8380000000000001
         ],
         "y": [
          1.495,
          1.646
         ],
         "z": [
          0.9020000000000001,
          0.7610000000000001
         ]
        },
        {
         "line": {
          "color": "red",
          "width": 2
         },
         "mode": "lines",
         "name": "Neck to LeftShoulder",
         "scene": "scene",
         "type": "scatter3d",
         "x": [
          0.8330000000000002,
          0.6800000000000002
         ],
         "y": [
          1.495,
          1.514
         ],
         "z": [
          0.9020000000000001,
          0.919
         ]
        },
        {
         "line": {
          "color": "red",
          "width": 2
         },
         "mode": "lines",
         "name": "Neck to RightShoulder",
         "scene": "scene",
         "type": "scatter3d",
         "x": [
          0.8330000000000002,
          0.9889999999999999
         ],
         "y": [
          1.495,
          1.474
         ],
         "z": [
          0.9020000000000001,
          0.8769999999999998
         ]
        },
        {
         "line": {
          "color": "red",
          "width": 2
         },
         "mode": "lines",
         "name": "LeftShoulder to LeftElbow",
         "scene": "scene",
         "type": "scatter3d",
         "x": [
          0.6800000000000002,
          0.4969999999999999
         ],
         "y": [
          1.514,
          1.298
         ],
         "z": [
          0.919,
          1.032
         ]
        },
        {
         "line": {
          "color": "red",
          "width": 2
         },
         "mode": "lines",
         "name": "RightShoulder to RightElbow",
         "scene": "scene",
         "type": "scatter3d",
         "x": [
          0.9889999999999999,
          0.9510000000000001
         ],
         "y": [
          1.474,
          1.2
         ],
         "z": [
          0.8769999999999998,
          0.786
         ]
        },
        {
         "line": {
          "color": "red",
          "width": 2
         },
         "mode": "lines",
         "name": "LeftElbow to LeftWrist",
         "scene": "scene",
         "type": "scatter3d",
         "x": [
          0.4969999999999999,
          0.6419999999999999
         ],
         "y": [
          1.298,
          1.162
         ],
         "z": [
          1.032,
          0.798
         ]
        },
        {
         "line": {
          "color": "red",
          "width": 2
         },
         "mode": "lines",
         "name": "RightElbow to RightWrist",
         "scene": "scene",
         "type": "scatter3d",
         "x": [
          0.9510000000000001,
          0.722
         ],
         "y": [
          1.2,
          1.061
         ],
         "z": [
          0.786,
          0.907
         ]
        },
        {
         "line": {
          "color": "red",
          "width": 2
         },
         "mode": "lines",
         "name": "LeftWrist to LeftHand",
         "scene": "scene",
         "type": "scatter3d",
         "x": [
          0.6419999999999999,
          0.6869999999999998
         ],
         "y": [
          1.162,
          1.1
         ],
         "z": [
          0.798,
          0.7949999999999999
         ]
        },
        {
         "line": {
          "color": "red",
          "width": 2
         },
         "mode": "lines",
         "name": "RightWrist to RightHand",
         "scene": "scene",
         "type": "scatter3d",
         "x": [
          0.722,
          0.6459999999999999
         ],
         "y": [
          1.061,
          1.109
         ],
         "z": [
          0.907,
          0.9049999999999998
         ]
        },
        {
         "line": {
          "color": "red",
          "width": 2
         },
         "mode": "lines",
         "name": "LeftHand to LeftFingers",
         "scene": "scene",
         "type": "scatter3d",
         "x": [
          0.6869999999999998,
          0.722
         ],
         "y": [
          1.1,
          0.993
         ],
         "z": [
          0.7949999999999999,
          0.9089999999999998
         ]
        },
        {
         "line": {
          "color": "red",
          "width": 2
         },
         "mode": "lines",
         "name": "RightHand to RightFingers",
         "scene": "scene",
         "type": "scatter3d",
         "x": [
          0.6459999999999999,
          0.5419999999999998
         ],
         "y": [
          1.109,
          1.108
         ],
         "z": [
          0.9049999999999998,
          0.9750000000000001
         ]
        },
        {
         "marker": {
          "color": "blue",
          "size": 5
         },
         "mode": "markers",
         "name": "Joints",
         "scene": "scene2",
         "type": "scatter3d",
         "x": [
          0.9670000000000001,
          0.7530000000000001,
          0.7530000000000001,
          0.6309999999999998,
          0.81,
          0.6059999999999999,
          0.9060000000000001,
          0.69,
          0.69,
          0.5720000000000001,
          0.9460000000000002,
          0.7210000000000001,
          1.0699999999999998,
          0.4849999999999999,
          0.9830000000000001,
          0.69,
          1.064,
          0.7269999999999999,
          1.056,
          0.7709999999999999,
          0.6339999999999999,
          0.8780000000000001,
          1.024
         ],
         "y": [
          0.66,
          0.661,
          0.666,
          0.66,
          0.722,
          0.727,
          1.14,
          1.153,
          1.504,
          1.512,
          1.955,
          2.036,
          1.703,
          1.814,
          1.493,
          1.622,
          1.594,
          1.647,
          1.562,
          1.589,
          1.751,
          1.988,
          2.06
         ],
         "z": [
          0.6970000000000001,
          1.206,
          0.544,
          1.009,
          0.6429999999999998,
          1.06,
          0.6400000000000001,
          0.9910000000000001,
          0.5830000000000002,
          0.7829999999999999,
          0.685,
          0.8879999999999999,
          0.6240000000000001,
          0.8290000000000002,
          0.839,
          0.9569999999999999,
          0.907,
          1.0270000000000001,
          0.9169999999999998,
          1.064,
          0.6080000000000001,
          0.8170000000000002,
          0.8980000000000001
         ]
        },
        {
         "line": {
          "color": "red",
          "width": 2
         },
         "mode": "lines",
         "name": "LeftToe to LeftAnkle",
         "scene": "scene2",
         "type": "scatter3d",
         "x": [
          0.9670000000000001,
          0.81
         ],
         "y": [
          0.66,
          0.722
         ],
         "z": [
          0.6970000000000001,
          0.6429999999999998
         ]
        },
        {
         "line": {
          "color": "red",
          "width": 2
         },
         "mode": "lines",
         "name": "RightToe to RightAnkle",
         "scene": "scene2",
         "type": "scatter3d",
         "x": [
          0.7530000000000001,
          0.6059999999999999
         ],
         "y": [
          0.661,
          0.727
         ],
         "z": [
          1.206,
          1.06
         ]
        },
        {
         "line": {
          "color": "red",
          "width": 2
         },
         "mode": "lines",
         "name": "LeftHeel to LeftAnkle",
         "scene": "scene2",
         "type": "scatter3d",
         "x": [
          0.7530000000000001,
          0.81
         ],
         "y": [
          0.666,
          0.722
         ],
         "z": [
          0.544,
          0.6429999999999998
         ]
        },
        {
         "line": {
          "color": "red",
          "width": 2
         },
         "mode": "lines",
         "name": "RightHeel to RightAnkle",
         "scene": "scene2",
         "type": "scatter3d",
         "x": [
          0.6309999999999998,
          0.6059999999999999
         ],
         "y": [
          0.66,
          0.727
         ],
         "z": [
          1.009,
          1.06
         ]
        },
        {
         "line": {
          "color": "red",
          "width": 2
         },
         "mode": "lines",
         "name": "LeftAnkle to LeftKnee",
         "scene": "scene2",
         "type": "scatter3d",
         "x": [
          0.81,
          0.9060000000000001
         ],
         "y": [
          0.722,
          1.14
         ],
         "z": [
          0.6429999999999998,
          0.6400000000000001
         ]
        },
        {
         "line": {
          "color": "red",
          "width": 2
         },
         "mode": "lines",
         "name": "RightAnkle to RightKnee",
         "scene": "scene2",
         "type": "scatter3d",
         "x": [
          0.6059999999999999,
          0.69
         ],
         "y": [
          0.727,
          1.153
         ],
         "z": [
          1.06,
          0.9910000000000001
         ]
        },
        {
         "line": {
          "color": "red",
          "width": 2
         },
         "mode": "lines",
         "name": "LeftKnee to LeftHip",
         "scene": "scene2",
         "type": "scatter3d",
         "x": [
          0.9060000000000001,
          0.69
         ],
         "y": [
          1.14,
          1.504
         ],
         "z": [
          0.6400000000000001,
          0.5830000000000002
         ]
        },
        {
         "line": {
          "color": "red",
          "width": 2
         },
         "mode": "lines",
         "name": "RightKnee to RightHip",
         "scene": "scene2",
         "type": "scatter3d",
         "x": [
          0.69,
          0.5720000000000001
         ],
         "y": [
          1.153,
          1.512
         ],
         "z": [
          0.9910000000000001,
          0.7829999999999999
         ]
        },
        {
         "line": {
          "color": "red",
          "width": 2
         },
         "mode": "lines",
         "name": "LeftHip to Core",
         "scene": "scene2",
         "type": "scatter3d",
         "x": [
          0.69,
          0.6339999999999999
         ],
         "y": [
          1.504,
          1.751
         ],
         "z": [
          0.5830000000000002,
          0.6080000000000001
         ]
        },
        {
         "line": {
          "color": "red",
          "width": 2
         },
         "mode": "lines",
         "name": "RightHip to Core",
         "scene": "scene2",
         "type": "scatter3d",
         "x": [
          0.5720000000000001,
          0.6339999999999999
         ],
         "y": [
          1.512,
          1.751
         ],
         "z": [
          0.7829999999999999,
          0.6080000000000001
         ]
        },
        {
         "line": {
          "color": "red",
          "width": 2
         },
         "mode": "lines",
         "name": "Core to Neck",
         "scene": "scene2",
         "type": "scatter3d",
         "x": [
          0.6339999999999999,
          0.8780000000000001
         ],
         "y": [
          1.751,
          1.988
         ],
         "z": [
          0.6080000000000001,
          0.8170000000000002
         ]
        },
        {
         "line": {
          "color": "red",
          "width": 2
         },
         "mode": "lines",
         "name": "Neck to Head",
         "scene": "scene2",
         "type": "scatter3d",
         "x": [
          0.8780000000000001,
          1.024
         ],
         "y": [
          1.988,
          2.06
         ],
         "z": [
          0.8170000000000002,
          0.8980000000000001
         ]
        },
        {
         "line": {
          "color": "red",
          "width": 2
         },
         "mode": "lines",
         "name": "Neck to LeftShoulder",
         "scene": "scene2",
         "type": "scatter3d",
         "x": [
          0.8780000000000001,
          0.9460000000000002
         ],
         "y": [
          1.988,
          1.955
         ],
         "z": [
          0.8170000000000002,
          0.685
         ]
        },
        {
         "line": {
          "color": "red",
          "width": 2
         },
         "mode": "lines",
         "name": "Neck to RightShoulder",
         "scene": "scene2",
         "type": "scatter3d",
         "x": [
          0.8780000000000001,
          0.7210000000000001
         ],
         "y": [
          1.988,
          2.036
         ],
         "z": [
          0.8170000000000002,
          0.8879999999999999
         ]
        },
        {
         "line": {
          "color": "red",
          "width": 2
         },
         "mode": "lines",
         "name": "LeftShoulder to LeftElbow",
         "scene": "scene2",
         "type": "scatter3d",
         "x": [
          0.9460000000000002,
          1.0699999999999998
         ],
         "y": [
          1.955,
          1.703
         ],
         "z": [
          0.685,
          0.6240000000000001
         ]
        },
        {
         "line": {
          "color": "red",
          "width": 2
         },
         "mode": "lines",
         "name": "RightShoulder to RightElbow",
         "scene": "scene2",
         "type": "scatter3d",
         "x": [
          0.7210000000000001,
          0.4849999999999999
         ],
         "y": [
          2.036,
          1.814
         ],
         "z": [
          0.8879999999999999,
          0.8290000000000002
         ]
        },
        {
         "line": {
          "color": "red",
          "width": 2
         },
         "mode": "lines",
         "name": "LeftElbow to LeftWrist",
         "scene": "scene2",
         "type": "scatter3d",
         "x": [
          1.0699999999999998,
          0.9830000000000001
         ],
         "y": [
          1.703,
          1.493
         ],
         "z": [
          0.6240000000000001,
          0.839
         ]
        },
        {
         "line": {
          "color": "red",
          "width": 2
         },
         "mode": "lines",
         "name": "RightElbow to RightWrist",
         "scene": "scene2",
         "type": "scatter3d",
         "x": [
          0.4849999999999999,
          0.69
         ],
         "y": [
          1.814,
          1.622
         ],
         "z": [
          0.8290000000000002,
          0.9569999999999999
         ]
        },
        {
         "line": {
          "color": "red",
          "width": 2
         },
         "mode": "lines",
         "name": "LeftWrist to LeftHand",
         "scene": "scene2",
         "type": "scatter3d",
         "x": [
          0.9830000000000001,
          1.064
         ],
         "y": [
          1.493,
          1.594
         ],
         "z": [
          0.839,
          0.907
         ]
        },
        {
         "line": {
          "color": "red",
          "width": 2
         },
         "mode": "lines",
         "name": "RightWrist to RightHand",
         "scene": "scene2",
         "type": "scatter3d",
         "x": [
          0.69,
          0.7269999999999999
         ],
         "y": [
          1.622,
          1.647
         ],
         "z": [
          0.9569999999999999,
          1.0270000000000001
         ]
        },
        {
         "line": {
          "color": "red",
          "width": 2
         },
         "mode": "lines",
         "name": "LeftHand to LeftFingers",
         "scene": "scene2",
         "type": "scatter3d",
         "x": [
          1.064,
          1.056
         ],
         "y": [
          1.594,
          1.562
         ],
         "z": [
          0.907,
          0.9169999999999998
         ]
        },
        {
         "line": {
          "color": "red",
          "width": 2
         },
         "mode": "lines",
         "name": "RightHand to RightFingers",
         "scene": "scene2",
         "type": "scatter3d",
         "x": [
          0.7269999999999999,
          0.7709999999999999
         ],
         "y": [
          1.647,
          1.589
         ],
         "z": [
          1.0270000000000001,
          1.064
         ]
        }
       ],
       "layout": {
        "annotations": [
         {
          "font": {
           "size": 16
          },
          "showarrow": false,
          "text": "Player 0",
          "x": 0.225,
          "xanchor": "center",
          "xref": "paper",
          "y": 1,
          "yanchor": "bottom",
          "yref": "paper"
         },
         {
          "font": {
           "size": 16
          },
          "showarrow": false,
          "text": "Player 1",
          "x": 0.775,
          "xanchor": "center",
          "xref": "paper",
          "y": 1,
          "yanchor": "bottom",
          "yref": "paper"
         }
        ],
        "height": 600,
        "scene": {
         "aspectmode": "auto",
         "aspectratio": {
          "x": 1.1563098639783123,
          "y": 0.8932630702770846,
          "z": 0.9681583379281289
         },
         "domain": {
          "x": [
           0,
           0.45
          ],
          "y": [
           0,
           1
          ]
         }
        },
        "scene2": {
         "aspectmode": "auto",
         "aspectratio": {
          "x": 0.7174229008676007,
          "y": 1.7169095063498139,
          "z": 0.8118529237168406
         },
         "camera": {
          "center": {
           "x": 0,
           "y": 0,
           "z": 0
          },
          "eye": {
           "x": 1.4662566822182992,
           "y": 1.0430818874334054,
           "z": 1.203981527249713
          },
          "projection": {
           "type": "perspective"
          },
          "up": {
           "x": 0,
           "y": 0,
           "z": 1
          }
         },
         "domain": {
          "x": [
           0.55,
           1
          ],
          "y": [
           0,
           1
          ]
         }
        },
        "template": {
         "data": {
          "bar": [
           {
            "error_x": {
             "color": "#2a3f5f"
            },
            "error_y": {
             "color": "#2a3f5f"
            },
            "marker": {
             "line": {
              "color": "#E5ECF6",
              "width": 0.5
             },
             "pattern": {
              "fillmode": "overlay",
              "size": 10,
              "solidity": 0.2
             }
            },
            "type": "bar"
           }
          ],
          "barpolar": [
           {
            "marker": {
             "line": {
              "color": "#E5ECF6",
              "width": 0.5
             },
             "pattern": {
              "fillmode": "overlay",
              "size": 10,
              "solidity": 0.2
             }
            },
            "type": "barpolar"
           }
          ],
          "carpet": [
           {
            "aaxis": {
             "endlinecolor": "#2a3f5f",
             "gridcolor": "white",
             "linecolor": "white",
             "minorgridcolor": "white",
             "startlinecolor": "#2a3f5f"
            },
            "baxis": {
             "endlinecolor": "#2a3f5f",
             "gridcolor": "white",
             "linecolor": "white",
             "minorgridcolor": "white",
             "startlinecolor": "#2a3f5f"
            },
            "type": "carpet"
           }
          ],
          "choropleth": [
           {
            "colorbar": {
             "outlinewidth": 0,
             "ticks": ""
            },
            "type": "choropleth"
           }
          ],
          "contour": [
           {
            "colorbar": {
             "outlinewidth": 0,
             "ticks": ""
            },
            "colorscale": [
             [
              0,
              "#0d0887"
             ],
             [
              0.1111111111111111,
              "#46039f"
             ],
             [
              0.2222222222222222,
              "#7201a8"
             ],
             [
              0.3333333333333333,
              "#9c179e"
             ],
             [
              0.4444444444444444,
              "#bd3786"
             ],
             [
              0.5555555555555556,
              "#d8576b"
             ],
             [
              0.6666666666666666,
              "#ed7953"
             ],
             [
              0.7777777777777778,
              "#fb9f3a"
             ],
             [
              0.8888888888888888,
              "#fdca26"
             ],
             [
              1,
              "#f0f921"
             ]
            ],
            "type": "contour"
           }
          ],
          "contourcarpet": [
           {
            "colorbar": {
             "outlinewidth": 0,
             "ticks": ""
            },
            "type": "contourcarpet"
           }
          ],
          "heatmap": [
           {
            "colorbar": {
             "outlinewidth": 0,
             "ticks": ""
            },
            "colorscale": [
             [
              0,
              "#0d0887"
             ],
             [
              0.1111111111111111,
              "#46039f"
             ],
             [
              0.2222222222222222,
              "#7201a8"
             ],
             [
              0.3333333333333333,
              "#9c179e"
             ],
             [
              0.4444444444444444,
              "#bd3786"
             ],
             [
              0.5555555555555556,
              "#d8576b"
             ],
             [
              0.6666666666666666,
              "#ed7953"
             ],
             [
              0.7777777777777778,
              "#fb9f3a"
             ],
             [
              0.8888888888888888,
              "#fdca26"
             ],
             [
              1,
              "#f0f921"
             ]
            ],
            "type": "heatmap"
           }
          ],
          "heatmapgl": [
           {
            "colorbar": {
             "outlinewidth": 0,
             "ticks": ""
            },
            "colorscale": [
             [
              0,
              "#0d0887"
             ],
             [
              0.1111111111111111,
              "#46039f"
             ],
             [
              0.2222222222222222,
              "#7201a8"
             ],
             [
              0.3333333333333333,
              "#9c179e"
             ],
             [
              0.4444444444444444,
              "#bd3786"
             ],
             [
              0.5555555555555556,
              "#d8576b"
             ],
             [
              0.6666666666666666,
              "#ed7953"
             ],
             [
              0.7777777777777778,
              "#fb9f3a"
             ],
             [
              0.8888888888888888,
              "#fdca26"
             ],
             [
              1,
              "#f0f921"
             ]
            ],
            "type": "heatmapgl"
           }
          ],
          "histogram": [
           {
            "marker": {
             "pattern": {
              "fillmode": "overlay",
              "size": 10,
              "solidity": 0.2
             }
            },
            "type": "histogram"
           }
          ],
          "histogram2d": [
           {
            "colorbar": {
             "outlinewidth": 0,
             "ticks": ""
            },
            "colorscale": [
             [
              0,
              "#0d0887"
             ],
             [
              0.1111111111111111,
              "#46039f"
             ],
             [
              0.2222222222222222,
              "#7201a8"
             ],
             [
              0.3333333333333333,
              "#9c179e"
             ],
             [
              0.4444444444444444,
              "#bd3786"
             ],
             [
              0.5555555555555556,
              "#d8576b"
             ],
             [
              0.6666666666666666,
              "#ed7953"
             ],
             [
              0.7777777777777778,
              "#fb9f3a"
             ],
             [
              0.8888888888888888,
              "#fdca26"
             ],
             [
              1,
              "#f0f921"
             ]
            ],
            "type": "histogram2d"
           }
          ],
          "histogram2dcontour": [
           {
            "colorbar": {
             "outlinewidth": 0,
             "ticks": ""
            },
            "colorscale": [
             [
              0,
              "#0d0887"
             ],
             [
              0.1111111111111111,
              "#46039f"
             ],
             [
              0.2222222222222222,
              "#7201a8"
             ],
             [
              0.3333333333333333,
              "#9c179e"
             ],
             [
              0.4444444444444444,
              "#bd3786"
             ],
             [
              0.5555555555555556,
              "#d8576b"
             ],
             [
              0.6666666666666666,
              "#ed7953"
             ],
             [
              0.7777777777777778,
              "#fb9f3a"
             ],
             [
              0.8888888888888888,
              "#fdca26"
             ],
             [
              1,
              "#f0f921"
             ]
            ],
            "type": "histogram2dcontour"
           }
          ],
          "mesh3d": [
           {
            "colorbar": {
             "outlinewidth": 0,
             "ticks": ""
            },
            "type": "mesh3d"
           }
          ],
          "parcoords": [
           {
            "line": {
             "colorbar": {
              "outlinewidth": 0,
              "ticks": ""
             }
            },
            "type": "parcoords"
           }
          ],
          "pie": [
           {
            "automargin": true,
            "type": "pie"
           }
          ],
          "scatter": [
           {
            "fillpattern": {
             "fillmode": "overlay",
             "size": 10,
             "solidity": 0.2
            },
            "type": "scatter"
           }
          ],
          "scatter3d": [
           {
            "line": {
             "colorbar": {
              "outlinewidth": 0,
              "ticks": ""
             }
            },
            "marker": {
             "colorbar": {
              "outlinewidth": 0,
              "ticks": ""
             }
            },
            "type": "scatter3d"
           }
          ],
          "scattercarpet": [
           {
            "marker": {
             "colorbar": {
              "outlinewidth": 0,
              "ticks": ""
             }
            },
            "type": "scattercarpet"
           }
          ],
          "scattergeo": [
           {
            "marker": {
             "colorbar": {
              "outlinewidth": 0,
              "ticks": ""
             }
            },
            "type": "scattergeo"
           }
          ],
          "scattergl": [
           {
            "marker": {
             "colorbar": {
              "outlinewidth": 0,
              "ticks": ""
             }
            },
            "type": "scattergl"
           }
          ],
          "scattermapbox": [
           {
            "marker": {
             "colorbar": {
              "outlinewidth": 0,
              "ticks": ""
             }
            },
            "type": "scattermapbox"
           }
          ],
          "scatterpolar": [
           {
            "marker": {
             "colorbar": {
              "outlinewidth": 0,
              "ticks": ""
             }
            },
            "type": "scatterpolar"
           }
          ],
          "scatterpolargl": [
           {
            "marker": {
             "colorbar": {
              "outlinewidth": 0,
              "ticks": ""
             }
            },
            "type": "scatterpolargl"
           }
          ],
          "scatterternary": [
           {
            "marker": {
             "colorbar": {
              "outlinewidth": 0,
              "ticks": ""
             }
            },
            "type": "scatterternary"
           }
          ],
          "surface": [
           {
            "colorbar": {
             "outlinewidth": 0,
             "ticks": ""
            },
            "colorscale": [
             [
              0,
              "#0d0887"
             ],
             [
              0.1111111111111111,
              "#46039f"
             ],
             [
              0.2222222222222222,
              "#7201a8"
             ],
             [
              0.3333333333333333,
              "#9c179e"
             ],
             [
              0.4444444444444444,
              "#bd3786"
             ],
             [
              0.5555555555555556,
              "#d8576b"
             ],
             [
              0.6666666666666666,
              "#ed7953"
             ],
             [
              0.7777777777777778,
              "#fb9f3a"
             ],
             [
              0.8888888888888888,
              "#fdca26"
             ],
             [
              1,
              "#f0f921"
             ]
            ],
            "type": "surface"
           }
          ],
          "table": [
           {
            "cells": {
             "fill": {
              "color": "#EBF0F8"
             },
             "line": {
              "color": "white"
             }
            },
            "header": {
             "fill": {
              "color": "#C8D4E3"
             },
             "line": {
              "color": "white"
             }
            },
            "type": "table"
           }
          ]
         },
         "layout": {
          "annotationdefaults": {
           "arrowcolor": "#2a3f5f",
           "arrowhead": 0,
           "arrowwidth": 1
          },
          "autotypenumbers": "strict",
          "coloraxis": {
           "colorbar": {
            "outlinewidth": 0,
            "ticks": ""
           }
          },
          "colorscale": {
           "diverging": [
            [
             0,
             "#8e0152"
            ],
            [
             0.1,
             "#c51b7d"
            ],
            [
             0.2,
             "#de77ae"
            ],
            [
             0.3,
             "#f1b6da"
            ],
            [
             0.4,
             "#fde0ef"
            ],
            [
             0.5,
             "#f7f7f7"
            ],
            [
             0.6,
             "#e6f5d0"
            ],
            [
             0.7,
             "#b8e186"
            ],
            [
             0.8,
             "#7fbc41"
            ],
            [
             0.9,
             "#4d9221"
            ],
            [
             1,
             "#276419"
            ]
           ],
           "sequential": [
            [
             0,
             "#0d0887"
            ],
            [
             0.1111111111111111,
             "#46039f"
            ],
            [
             0.2222222222222222,
             "#7201a8"
            ],
            [
             0.3333333333333333,
             "#9c179e"
            ],
            [
             0.4444444444444444,
             "#bd3786"
            ],
            [
             0.5555555555555556,
             "#d8576b"
            ],
            [
             0.6666666666666666,
             "#ed7953"
            ],
            [
             0.7777777777777778,
             "#fb9f3a"
            ],
            [
             0.8888888888888888,
             "#fdca26"
            ],
            [
             1,
             "#f0f921"
            ]
           ],
           "sequentialminus": [
            [
             0,
             "#0d0887"
            ],
            [
             0.1111111111111111,
             "#46039f"
            ],
            [
             0.2222222222222222,
             "#7201a8"
            ],
            [
             0.3333333333333333,
             "#9c179e"
            ],
            [
             0.4444444444444444,
             "#bd3786"
            ],
            [
             0.5555555555555556,
             "#d8576b"
            ],
            [
             0.6666666666666666,
             "#ed7953"
            ],
            [
             0.7777777777777778,
             "#fb9f3a"
            ],
            [
             0.8888888888888888,
             "#fdca26"
            ],
            [
             1,
             "#f0f921"
            ]
           ]
          },
          "colorway": [
           "#636efa",
           "#EF553B",
           "#00cc96",
           "#ab63fa",
           "#FFA15A",
           "#19d3f3",
           "#FF6692",
           "#B6E880",
           "#FF97FF",
           "#FECB52"
          ],
          "font": {
           "color": "#2a3f5f"
          },
          "geo": {
           "bgcolor": "white",
           "lakecolor": "white",
           "landcolor": "#E5ECF6",
           "showlakes": true,
           "showland": true,
           "subunitcolor": "white"
          },
          "hoverlabel": {
           "align": "left"
          },
          "hovermode": "closest",
          "mapbox": {
           "style": "light"
          },
          "paper_bgcolor": "white",
          "plot_bgcolor": "#E5ECF6",
          "polar": {
           "angularaxis": {
            "gridcolor": "white",
            "linecolor": "white",
            "ticks": ""
           },
           "bgcolor": "#E5ECF6",
           "radialaxis": {
            "gridcolor": "white",
            "linecolor": "white",
            "ticks": ""
           }
          },
          "scene": {
           "xaxis": {
            "backgroundcolor": "#E5ECF6",
            "gridcolor": "white",
            "gridwidth": 2,
            "linecolor": "white",
            "showbackground": true,
            "ticks": "",
            "zerolinecolor": "white"
           },
           "yaxis": {
            "backgroundcolor": "#E5ECF6",
            "gridcolor": "white",
            "gridwidth": 2,
            "linecolor": "white",
            "showbackground": true,
            "ticks": "",
            "zerolinecolor": "white"
           },
           "zaxis": {
            "backgroundcolor": "#E5ECF6",
            "gridcolor": "white",
            "gridwidth": 2,
            "linecolor": "white",
            "showbackground": true,
            "ticks": "",
            "zerolinecolor": "white"
           }
          },
          "shapedefaults": {
           "line": {
            "color": "#2a3f5f"
           }
          },
          "ternary": {
           "aaxis": {
            "gridcolor": "white",
            "linecolor": "white",
            "ticks": ""
           },
           "baxis": {
            "gridcolor": "white",
            "linecolor": "white",
            "ticks": ""
           },
           "bgcolor": "#E5ECF6",
           "caxis": {
            "gridcolor": "white",
            "linecolor": "white",
            "ticks": ""
           }
          },
          "title": {
           "x": 0.05
          },
          "xaxis": {
           "automargin": true,
           "gridcolor": "white",
           "linecolor": "white",
           "ticks": "",
           "title": {
            "standoff": 15
           },
           "zerolinecolor": "white",
           "zerolinewidth": 2
          },
          "yaxis": {
           "automargin": true,
           "gridcolor": "white",
           "linecolor": "white",
           "ticks": "",
           "title": {
            "standoff": 15
           },
           "zerolinecolor": "white",
           "zerolinewidth": 2
          }
         }
        },
        "title": {
         "text": "Both Players"
        },
        "width": 1200
       }
      },
      "text/html": [
       "<div>                            <div id=\"3aba50e3-6663-4e3a-8fd3-eb2fb13ca73a\" class=\"plotly-graph-div\" style=\"height:600px; width:1200px;\"></div>            <script type=\"text/javascript\">                require([\"plotly\"], function(Plotly) {                    window.PLOTLYENV=window.PLOTLYENV || {};                                    if (document.getElementById(\"3aba50e3-6663-4e3a-8fd3-eb2fb13ca73a\")) {                    Plotly.newPlot(                        \"3aba50e3-6663-4e3a-8fd3-eb2fb13ca73a\",                        [{\"marker\":{\"color\":\"blue\",\"size\":5},\"mode\":\"markers\",\"name\":\"Joints\",\"x\":[0.871,1.763,0.7970000000000002,1.4769999999999999,0.8460000000000001,1.592,0.786,1.4929999999999999,0.8730000000000002,1.089,0.6800000000000002,0.9889999999999999,0.4969999999999999,0.9510000000000001,0.6419999999999999,0.722,0.6869999999999998,0.6459999999999999,0.722,0.5419999999999998,0.907,0.8330000000000002,0.8380000000000001],\"y\":[0.697,0.679,0.909,0.668,0.828,0.727,0.68,1.099,1.098,1.164,1.514,1.474,1.298,1.2,1.162,1.061,1.1,1.109,0.993,1.108,1.248,1.495,1.646],\"z\":[1.8210000000000002,1.388,1.737,1.423,1.7000000000000002,1.387,1.302,1.198,1.362,1.3359999999999999,0.919,0.8769999999999998,1.032,0.786,0.798,0.907,0.7949999999999999,0.9049999999999998,0.9089999999999998,0.9750000000000001,1.1949999999999998,0.9020000000000001,0.7610000000000001],\"type\":\"scatter3d\",\"scene\":\"scene\"},{\"line\":{\"color\":\"red\",\"width\":2},\"mode\":\"lines\",\"name\":\"LeftToe to LeftAnkle\",\"x\":[0.871,0.8460000000000001],\"y\":[0.697,0.828],\"z\":[1.8210000000000002,1.7000000000000002],\"type\":\"scatter3d\",\"scene\":\"scene\"},{\"line\":{\"color\":\"red\",\"width\":2},\"mode\":\"lines\",\"name\":\"RightToe to RightAnkle\",\"x\":[1.763,1.592],\"y\":[0.679,0.727],\"z\":[1.388,1.387],\"type\":\"scatter3d\",\"scene\":\"scene\"},{\"line\":{\"color\":\"red\",\"width\":2},\"mode\":\"lines\",\"name\":\"LeftHeel to LeftAnkle\",\"x\":[0.7970000000000002,0.8460000000000001],\"y\":[0.909,0.828],\"z\":[1.737,1.7000000000000002],\"type\":\"scatter3d\",\"scene\":\"scene\"},{\"line\":{\"color\":\"red\",\"width\":2},\"mode\":\"lines\",\"name\":\"RightHeel to RightAnkle\",\"x\":[1.4769999999999999,1.592],\"y\":[0.668,0.727],\"z\":[1.423,1.387],\"type\":\"scatter3d\",\"scene\":\"scene\"},{\"line\":{\"color\":\"red\",\"width\":2},\"mode\":\"lines\",\"name\":\"LeftAnkle to LeftKnee\",\"x\":[0.8460000000000001,0.786],\"y\":[0.828,0.68],\"z\":[1.7000000000000002,1.302],\"type\":\"scatter3d\",\"scene\":\"scene\"},{\"line\":{\"color\":\"red\",\"width\":2},\"mode\":\"lines\",\"name\":\"RightAnkle to RightKnee\",\"x\":[1.592,1.4929999999999999],\"y\":[0.727,1.099],\"z\":[1.387,1.198],\"type\":\"scatter3d\",\"scene\":\"scene\"},{\"line\":{\"color\":\"red\",\"width\":2},\"mode\":\"lines\",\"name\":\"LeftKnee to LeftHip\",\"x\":[0.786,0.8730000000000002],\"y\":[0.68,1.098],\"z\":[1.302,1.362],\"type\":\"scatter3d\",\"scene\":\"scene\"},{\"line\":{\"color\":\"red\",\"width\":2},\"mode\":\"lines\",\"name\":\"RightKnee to RightHip\",\"x\":[1.4929999999999999,1.089],\"y\":[1.099,1.164],\"z\":[1.198,1.3359999999999999],\"type\":\"scatter3d\",\"scene\":\"scene\"},{\"line\":{\"color\":\"red\",\"width\":2},\"mode\":\"lines\",\"name\":\"LeftHip to Core\",\"x\":[0.8730000000000002,0.907],\"y\":[1.098,1.248],\"z\":[1.362,1.1949999999999998],\"type\":\"scatter3d\",\"scene\":\"scene\"},{\"line\":{\"color\":\"red\",\"width\":2},\"mode\":\"lines\",\"name\":\"RightHip to Core\",\"x\":[1.089,0.907],\"y\":[1.164,1.248],\"z\":[1.3359999999999999,1.1949999999999998],\"type\":\"scatter3d\",\"scene\":\"scene\"},{\"line\":{\"color\":\"red\",\"width\":2},\"mode\":\"lines\",\"name\":\"Core to Neck\",\"x\":[0.907,0.8330000000000002],\"y\":[1.248,1.495],\"z\":[1.1949999999999998,0.9020000000000001],\"type\":\"scatter3d\",\"scene\":\"scene\"},{\"line\":{\"color\":\"red\",\"width\":2},\"mode\":\"lines\",\"name\":\"Neck to Head\",\"x\":[0.8330000000000002,0.8380000000000001],\"y\":[1.495,1.646],\"z\":[0.9020000000000001,0.7610000000000001],\"type\":\"scatter3d\",\"scene\":\"scene\"},{\"line\":{\"color\":\"red\",\"width\":2},\"mode\":\"lines\",\"name\":\"Neck to LeftShoulder\",\"x\":[0.8330000000000002,0.6800000000000002],\"y\":[1.495,1.514],\"z\":[0.9020000000000001,0.919],\"type\":\"scatter3d\",\"scene\":\"scene\"},{\"line\":{\"color\":\"red\",\"width\":2},\"mode\":\"lines\",\"name\":\"Neck to RightShoulder\",\"x\":[0.8330000000000002,0.9889999999999999],\"y\":[1.495,1.474],\"z\":[0.9020000000000001,0.8769999999999998],\"type\":\"scatter3d\",\"scene\":\"scene\"},{\"line\":{\"color\":\"red\",\"width\":2},\"mode\":\"lines\",\"name\":\"LeftShoulder to LeftElbow\",\"x\":[0.6800000000000002,0.4969999999999999],\"y\":[1.514,1.298],\"z\":[0.919,1.032],\"type\":\"scatter3d\",\"scene\":\"scene\"},{\"line\":{\"color\":\"red\",\"width\":2},\"mode\":\"lines\",\"name\":\"RightShoulder to RightElbow\",\"x\":[0.9889999999999999,0.9510000000000001],\"y\":[1.474,1.2],\"z\":[0.8769999999999998,0.786],\"type\":\"scatter3d\",\"scene\":\"scene\"},{\"line\":{\"color\":\"red\",\"width\":2},\"mode\":\"lines\",\"name\":\"LeftElbow to LeftWrist\",\"x\":[0.4969999999999999,0.6419999999999999],\"y\":[1.298,1.162],\"z\":[1.032,0.798],\"type\":\"scatter3d\",\"scene\":\"scene\"},{\"line\":{\"color\":\"red\",\"width\":2},\"mode\":\"lines\",\"name\":\"RightElbow to RightWrist\",\"x\":[0.9510000000000001,0.722],\"y\":[1.2,1.061],\"z\":[0.786,0.907],\"type\":\"scatter3d\",\"scene\":\"scene\"},{\"line\":{\"color\":\"red\",\"width\":2},\"mode\":\"lines\",\"name\":\"LeftWrist to LeftHand\",\"x\":[0.6419999999999999,0.6869999999999998],\"y\":[1.162,1.1],\"z\":[0.798,0.7949999999999999],\"type\":\"scatter3d\",\"scene\":\"scene\"},{\"line\":{\"color\":\"red\",\"width\":2},\"mode\":\"lines\",\"name\":\"RightWrist to RightHand\",\"x\":[0.722,0.6459999999999999],\"y\":[1.061,1.109],\"z\":[0.907,0.9049999999999998],\"type\":\"scatter3d\",\"scene\":\"scene\"},{\"line\":{\"color\":\"red\",\"width\":2},\"mode\":\"lines\",\"name\":\"LeftHand to LeftFingers\",\"x\":[0.6869999999999998,0.722],\"y\":[1.1,0.993],\"z\":[0.7949999999999999,0.9089999999999998],\"type\":\"scatter3d\",\"scene\":\"scene\"},{\"line\":{\"color\":\"red\",\"width\":2},\"mode\":\"lines\",\"name\":\"RightHand to RightFingers\",\"x\":[0.6459999999999999,0.5419999999999998],\"y\":[1.109,1.108],\"z\":[0.9049999999999998,0.9750000000000001],\"type\":\"scatter3d\",\"scene\":\"scene\"},{\"marker\":{\"color\":\"blue\",\"size\":5},\"mode\":\"markers\",\"name\":\"Joints\",\"x\":[0.9670000000000001,0.7530000000000001,0.7530000000000001,0.6309999999999998,0.81,0.6059999999999999,0.9060000000000001,0.69,0.69,0.5720000000000001,0.9460000000000002,0.7210000000000001,1.0699999999999998,0.4849999999999999,0.9830000000000001,0.69,1.064,0.7269999999999999,1.056,0.7709999999999999,0.6339999999999999,0.8780000000000001,1.024],\"y\":[0.66,0.661,0.666,0.66,0.722,0.727,1.14,1.153,1.504,1.512,1.955,2.036,1.703,1.814,1.493,1.622,1.594,1.647,1.562,1.589,1.751,1.988,2.06],\"z\":[0.6970000000000001,1.206,0.544,1.009,0.6429999999999998,1.06,0.6400000000000001,0.9910000000000001,0.5830000000000002,0.7829999999999999,0.685,0.8879999999999999,0.6240000000000001,0.8290000000000002,0.839,0.9569999999999999,0.907,1.0270000000000001,0.9169999999999998,1.064,0.6080000000000001,0.8170000000000002,0.8980000000000001],\"type\":\"scatter3d\",\"scene\":\"scene2\"},{\"line\":{\"color\":\"red\",\"width\":2},\"mode\":\"lines\",\"name\":\"LeftToe to LeftAnkle\",\"x\":[0.9670000000000001,0.81],\"y\":[0.66,0.722],\"z\":[0.6970000000000001,0.6429999999999998],\"type\":\"scatter3d\",\"scene\":\"scene2\"},{\"line\":{\"color\":\"red\",\"width\":2},\"mode\":\"lines\",\"name\":\"RightToe to RightAnkle\",\"x\":[0.7530000000000001,0.6059999999999999],\"y\":[0.661,0.727],\"z\":[1.206,1.06],\"type\":\"scatter3d\",\"scene\":\"scene2\"},{\"line\":{\"color\":\"red\",\"width\":2},\"mode\":\"lines\",\"name\":\"LeftHeel to LeftAnkle\",\"x\":[0.7530000000000001,0.81],\"y\":[0.666,0.722],\"z\":[0.544,0.6429999999999998],\"type\":\"scatter3d\",\"scene\":\"scene2\"},{\"line\":{\"color\":\"red\",\"width\":2},\"mode\":\"lines\",\"name\":\"RightHeel to RightAnkle\",\"x\":[0.6309999999999998,0.6059999999999999],\"y\":[0.66,0.727],\"z\":[1.009,1.06],\"type\":\"scatter3d\",\"scene\":\"scene2\"},{\"line\":{\"color\":\"red\",\"width\":2},\"mode\":\"lines\",\"name\":\"LeftAnkle to LeftKnee\",\"x\":[0.81,0.9060000000000001],\"y\":[0.722,1.14],\"z\":[0.6429999999999998,0.6400000000000001],\"type\":\"scatter3d\",\"scene\":\"scene2\"},{\"line\":{\"color\":\"red\",\"width\":2},\"mode\":\"lines\",\"name\":\"RightAnkle to RightKnee\",\"x\":[0.6059999999999999,0.69],\"y\":[0.727,1.153],\"z\":[1.06,0.9910000000000001],\"type\":\"scatter3d\",\"scene\":\"scene2\"},{\"line\":{\"color\":\"red\",\"width\":2},\"mode\":\"lines\",\"name\":\"LeftKnee to LeftHip\",\"x\":[0.9060000000000001,0.69],\"y\":[1.14,1.504],\"z\":[0.6400000000000001,0.5830000000000002],\"type\":\"scatter3d\",\"scene\":\"scene2\"},{\"line\":{\"color\":\"red\",\"width\":2},\"mode\":\"lines\",\"name\":\"RightKnee to RightHip\",\"x\":[0.69,0.5720000000000001],\"y\":[1.153,1.512],\"z\":[0.9910000000000001,0.7829999999999999],\"type\":\"scatter3d\",\"scene\":\"scene2\"},{\"line\":{\"color\":\"red\",\"width\":2},\"mode\":\"lines\",\"name\":\"LeftHip to Core\",\"x\":[0.69,0.6339999999999999],\"y\":[1.504,1.751],\"z\":[0.5830000000000002,0.6080000000000001],\"type\":\"scatter3d\",\"scene\":\"scene2\"},{\"line\":{\"color\":\"red\",\"width\":2},\"mode\":\"lines\",\"name\":\"RightHip to Core\",\"x\":[0.5720000000000001,0.6339999999999999],\"y\":[1.512,1.751],\"z\":[0.7829999999999999,0.6080000000000001],\"type\":\"scatter3d\",\"scene\":\"scene2\"},{\"line\":{\"color\":\"red\",\"width\":2},\"mode\":\"lines\",\"name\":\"Core to Neck\",\"x\":[0.6339999999999999,0.8780000000000001],\"y\":[1.751,1.988],\"z\":[0.6080000000000001,0.8170000000000002],\"type\":\"scatter3d\",\"scene\":\"scene2\"},{\"line\":{\"color\":\"red\",\"width\":2},\"mode\":\"lines\",\"name\":\"Neck to Head\",\"x\":[0.8780000000000001,1.024],\"y\":[1.988,2.06],\"z\":[0.8170000000000002,0.8980000000000001],\"type\":\"scatter3d\",\"scene\":\"scene2\"},{\"line\":{\"color\":\"red\",\"width\":2},\"mode\":\"lines\",\"name\":\"Neck to LeftShoulder\",\"x\":[0.8780000000000001,0.9460000000000002],\"y\":[1.988,1.955],\"z\":[0.8170000000000002,0.685],\"type\":\"scatter3d\",\"scene\":\"scene2\"},{\"line\":{\"color\":\"red\",\"width\":2},\"mode\":\"lines\",\"name\":\"Neck to RightShoulder\",\"x\":[0.8780000000000001,0.7210000000000001],\"y\":[1.988,2.036],\"z\":[0.8170000000000002,0.8879999999999999],\"type\":\"scatter3d\",\"scene\":\"scene2\"},{\"line\":{\"color\":\"red\",\"width\":2},\"mode\":\"lines\",\"name\":\"LeftShoulder to LeftElbow\",\"x\":[0.9460000000000002,1.0699999999999998],\"y\":[1.955,1.703],\"z\":[0.685,0.6240000000000001],\"type\":\"scatter3d\",\"scene\":\"scene2\"},{\"line\":{\"color\":\"red\",\"width\":2},\"mode\":\"lines\",\"name\":\"RightShoulder to RightElbow\",\"x\":[0.7210000000000001,0.4849999999999999],\"y\":[2.036,1.814],\"z\":[0.8879999999999999,0.8290000000000002],\"type\":\"scatter3d\",\"scene\":\"scene2\"},{\"line\":{\"color\":\"red\",\"width\":2},\"mode\":\"lines\",\"name\":\"LeftElbow to LeftWrist\",\"x\":[1.0699999999999998,0.9830000000000001],\"y\":[1.703,1.493],\"z\":[0.6240000000000001,0.839],\"type\":\"scatter3d\",\"scene\":\"scene2\"},{\"line\":{\"color\":\"red\",\"width\":2},\"mode\":\"lines\",\"name\":\"RightElbow to RightWrist\",\"x\":[0.4849999999999999,0.69],\"y\":[1.814,1.622],\"z\":[0.8290000000000002,0.9569999999999999],\"type\":\"scatter3d\",\"scene\":\"scene2\"},{\"line\":{\"color\":\"red\",\"width\":2},\"mode\":\"lines\",\"name\":\"LeftWrist to LeftHand\",\"x\":[0.9830000000000001,1.064],\"y\":[1.493,1.594],\"z\":[0.839,0.907],\"type\":\"scatter3d\",\"scene\":\"scene2\"},{\"line\":{\"color\":\"red\",\"width\":2},\"mode\":\"lines\",\"name\":\"RightWrist to RightHand\",\"x\":[0.69,0.7269999999999999],\"y\":[1.622,1.647],\"z\":[0.9569999999999999,1.0270000000000001],\"type\":\"scatter3d\",\"scene\":\"scene2\"},{\"line\":{\"color\":\"red\",\"width\":2},\"mode\":\"lines\",\"name\":\"LeftHand to LeftFingers\",\"x\":[1.064,1.056],\"y\":[1.594,1.562],\"z\":[0.907,0.9169999999999998],\"type\":\"scatter3d\",\"scene\":\"scene2\"},{\"line\":{\"color\":\"red\",\"width\":2},\"mode\":\"lines\",\"name\":\"RightHand to RightFingers\",\"x\":[0.7269999999999999,0.7709999999999999],\"y\":[1.647,1.589],\"z\":[1.0270000000000001,1.064],\"type\":\"scatter3d\",\"scene\":\"scene2\"}],                        {\"template\":{\"data\":{\"histogram2dcontour\":[{\"type\":\"histogram2dcontour\",\"colorbar\":{\"outlinewidth\":0,\"ticks\":\"\"},\"colorscale\":[[0.0,\"#0d0887\"],[0.1111111111111111,\"#46039f\"],[0.2222222222222222,\"#7201a8\"],[0.3333333333333333,\"#9c179e\"],[0.4444444444444444,\"#bd3786\"],[0.5555555555555556,\"#d8576b\"],[0.6666666666666666,\"#ed7953\"],[0.7777777777777778,\"#fb9f3a\"],[0.8888888888888888,\"#fdca26\"],[1.0,\"#f0f921\"]]}],\"choropleth\":[{\"type\":\"choropleth\",\"colorbar\":{\"outlinewidth\":0,\"ticks\":\"\"}}],\"histogram2d\":[{\"type\":\"histogram2d\",\"colorbar\":{\"outlinewidth\":0,\"ticks\":\"\"},\"colorscale\":[[0.0,\"#0d0887\"],[0.1111111111111111,\"#46039f\"],[0.2222222222222222,\"#7201a8\"],[0.3333333333333333,\"#9c179e\"],[0.4444444444444444,\"#bd3786\"],[0.5555555555555556,\"#d8576b\"],[0.6666666666666666,\"#ed7953\"],[0.7777777777777778,\"#fb9f3a\"],[0.8888888888888888,\"#fdca26\"],[1.0,\"#f0f921\"]]}],\"heatmap\":[{\"type\":\"heatmap\",\"colorbar\":{\"outlinewidth\":0,\"ticks\":\"\"},\"colorscale\":[[0.0,\"#0d0887\"],[0.1111111111111111,\"#46039f\"],[0.2222222222222222,\"#7201a8\"],[0.3333333333333333,\"#9c179e\"],[0.4444444444444444,\"#bd3786\"],[0.5555555555555556,\"#d8576b\"],[0.6666666666666666,\"#ed7953\"],[0.7777777777777778,\"#fb9f3a\"],[0.8888888888888888,\"#fdca26\"],[1.0,\"#f0f921\"]]}],\"heatmapgl\":[{\"type\":\"heatmapgl\",\"colorbar\":{\"outlinewidth\":0,\"ticks\":\"\"},\"colorscale\":[[0.0,\"#0d0887\"],[0.1111111111111111,\"#46039f\"],[0.2222222222222222,\"#7201a8\"],[0.3333333333333333,\"#9c179e\"],[0.4444444444444444,\"#bd3786\"],[0.5555555555555556,\"#d8576b\"],[0.6666666666666666,\"#ed7953\"],[0.7777777777777778,\"#fb9f3a\"],[0.8888888888888888,\"#fdca26\"],[1.0,\"#f0f921\"]]}],\"contourcarpet\":[{\"type\":\"contourcarpet\",\"colorbar\":{\"outlinewidth\":0,\"ticks\":\"\"}}],\"contour\":[{\"type\":\"contour\",\"colorbar\":{\"outlinewidth\":0,\"ticks\":\"\"},\"colorscale\":[[0.0,\"#0d0887\"],[0.1111111111111111,\"#46039f\"],[0.2222222222222222,\"#7201a8\"],[0.3333333333333333,\"#9c179e\"],[0.4444444444444444,\"#bd3786\"],[0.5555555555555556,\"#d8576b\"],[0.6666666666666666,\"#ed7953\"],[0.7777777777777778,\"#fb9f3a\"],[0.8888888888888888,\"#fdca26\"],[1.0,\"#f0f921\"]]}],\"surface\":[{\"type\":\"surface\",\"colorbar\":{\"outlinewidth\":0,\"ticks\":\"\"},\"colorscale\":[[0.0,\"#0d0887\"],[0.1111111111111111,\"#46039f\"],[0.2222222222222222,\"#7201a8\"],[0.3333333333333333,\"#9c179e\"],[0.4444444444444444,\"#bd3786\"],[0.5555555555555556,\"#d8576b\"],[0.6666666666666666,\"#ed7953\"],[0.7777777777777778,\"#fb9f3a\"],[0.8888888888888888,\"#fdca26\"],[1.0,\"#f0f921\"]]}],\"mesh3d\":[{\"type\":\"mesh3d\",\"colorbar\":{\"outlinewidth\":0,\"ticks\":\"\"}}],\"scatter\":[{\"fillpattern\":{\"fillmode\":\"overlay\",\"size\":10,\"solidity\":0.2},\"type\":\"scatter\"}],\"parcoords\":[{\"type\":\"parcoords\",\"line\":{\"colorbar\":{\"outlinewidth\":0,\"ticks\":\"\"}}}],\"scatterpolargl\":[{\"type\":\"scatterpolargl\",\"marker\":{\"colorbar\":{\"outlinewidth\":0,\"ticks\":\"\"}}}],\"bar\":[{\"error_x\":{\"color\":\"#2a3f5f\"},\"error_y\":{\"color\":\"#2a3f5f\"},\"marker\":{\"line\":{\"color\":\"#E5ECF6\",\"width\":0.5},\"pattern\":{\"fillmode\":\"overlay\",\"size\":10,\"solidity\":0.2}},\"type\":\"bar\"}],\"scattergeo\":[{\"type\":\"scattergeo\",\"marker\":{\"colorbar\":{\"outlinewidth\":0,\"ticks\":\"\"}}}],\"scatterpolar\":[{\"type\":\"scatterpolar\",\"marker\":{\"colorbar\":{\"outlinewidth\":0,\"ticks\":\"\"}}}],\"histogram\":[{\"marker\":{\"pattern\":{\"fillmode\":\"overlay\",\"size\":10,\"solidity\":0.2}},\"type\":\"histogram\"}],\"scattergl\":[{\"type\":\"scattergl\",\"marker\":{\"colorbar\":{\"outlinewidth\":0,\"ticks\":\"\"}}}],\"scatter3d\":[{\"type\":\"scatter3d\",\"line\":{\"colorbar\":{\"outlinewidth\":0,\"ticks\":\"\"}},\"marker\":{\"colorbar\":{\"outlinewidth\":0,\"ticks\":\"\"}}}],\"scattermapbox\":[{\"type\":\"scattermapbox\",\"marker\":{\"colorbar\":{\"outlinewidth\":0,\"ticks\":\"\"}}}],\"scatterternary\":[{\"type\":\"scatterternary\",\"marker\":{\"colorbar\":{\"outlinewidth\":0,\"ticks\":\"\"}}}],\"scattercarpet\":[{\"type\":\"scattercarpet\",\"marker\":{\"colorbar\":{\"outlinewidth\":0,\"ticks\":\"\"}}}],\"carpet\":[{\"aaxis\":{\"endlinecolor\":\"#2a3f5f\",\"gridcolor\":\"white\",\"linecolor\":\"white\",\"minorgridcolor\":\"white\",\"startlinecolor\":\"#2a3f5f\"},\"baxis\":{\"endlinecolor\":\"#2a3f5f\",\"gridcolor\":\"white\",\"linecolor\":\"white\",\"minorgridcolor\":\"white\",\"startlinecolor\":\"#2a3f5f\"},\"type\":\"carpet\"}],\"table\":[{\"cells\":{\"fill\":{\"color\":\"#EBF0F8\"},\"line\":{\"color\":\"white\"}},\"header\":{\"fill\":{\"color\":\"#C8D4E3\"},\"line\":{\"color\":\"white\"}},\"type\":\"table\"}],\"barpolar\":[{\"marker\":{\"line\":{\"color\":\"#E5ECF6\",\"width\":0.5},\"pattern\":{\"fillmode\":\"overlay\",\"size\":10,\"solidity\":0.2}},\"type\":\"barpolar\"}],\"pie\":[{\"automargin\":true,\"type\":\"pie\"}]},\"layout\":{\"autotypenumbers\":\"strict\",\"colorway\":[\"#636efa\",\"#EF553B\",\"#00cc96\",\"#ab63fa\",\"#FFA15A\",\"#19d3f3\",\"#FF6692\",\"#B6E880\",\"#FF97FF\",\"#FECB52\"],\"font\":{\"color\":\"#2a3f5f\"},\"hovermode\":\"closest\",\"hoverlabel\":{\"align\":\"left\"},\"paper_bgcolor\":\"white\",\"plot_bgcolor\":\"#E5ECF6\",\"polar\":{\"bgcolor\":\"#E5ECF6\",\"angularaxis\":{\"gridcolor\":\"white\",\"linecolor\":\"white\",\"ticks\":\"\"},\"radialaxis\":{\"gridcolor\":\"white\",\"linecolor\":\"white\",\"ticks\":\"\"}},\"ternary\":{\"bgcolor\":\"#E5ECF6\",\"aaxis\":{\"gridcolor\":\"white\",\"linecolor\":\"white\",\"ticks\":\"\"},\"baxis\":{\"gridcolor\":\"white\",\"linecolor\":\"white\",\"ticks\":\"\"},\"caxis\":{\"gridcolor\":\"white\",\"linecolor\":\"white\",\"ticks\":\"\"}},\"coloraxis\":{\"colorbar\":{\"outlinewidth\":0,\"ticks\":\"\"}},\"colorscale\":{\"sequential\":[[0.0,\"#0d0887\"],[0.1111111111111111,\"#46039f\"],[0.2222222222222222,\"#7201a8\"],[0.3333333333333333,\"#9c179e\"],[0.4444444444444444,\"#bd3786\"],[0.5555555555555556,\"#d8576b\"],[0.6666666666666666,\"#ed7953\"],[0.7777777777777778,\"#fb9f3a\"],[0.8888888888888888,\"#fdca26\"],[1.0,\"#f0f921\"]],\"sequentialminus\":[[0.0,\"#0d0887\"],[0.1111111111111111,\"#46039f\"],[0.2222222222222222,\"#7201a8\"],[0.3333333333333333,\"#9c179e\"],[0.4444444444444444,\"#bd3786\"],[0.5555555555555556,\"#d8576b\"],[0.6666666666666666,\"#ed7953\"],[0.7777777777777778,\"#fb9f3a\"],[0.8888888888888888,\"#fdca26\"],[1.0,\"#f0f921\"]],\"diverging\":[[0,\"#8e0152\"],[0.1,\"#c51b7d\"],[0.2,\"#de77ae\"],[0.3,\"#f1b6da\"],[0.4,\"#fde0ef\"],[0.5,\"#f7f7f7\"],[0.6,\"#e6f5d0\"],[0.7,\"#b8e186\"],[0.8,\"#7fbc41\"],[0.9,\"#4d9221\"],[1,\"#276419\"]]},\"xaxis\":{\"gridcolor\":\"white\",\"linecolor\":\"white\",\"ticks\":\"\",\"title\":{\"standoff\":15},\"zerolinecolor\":\"white\",\"automargin\":true,\"zerolinewidth\":2},\"yaxis\":{\"gridcolor\":\"white\",\"linecolor\":\"white\",\"ticks\":\"\",\"title\":{\"standoff\":15},\"zerolinecolor\":\"white\",\"automargin\":true,\"zerolinewidth\":2},\"scene\":{\"xaxis\":{\"backgroundcolor\":\"#E5ECF6\",\"gridcolor\":\"white\",\"linecolor\":\"white\",\"showbackground\":true,\"ticks\":\"\",\"zerolinecolor\":\"white\",\"gridwidth\":2},\"yaxis\":{\"backgroundcolor\":\"#E5ECF6\",\"gridcolor\":\"white\",\"linecolor\":\"white\",\"showbackground\":true,\"ticks\":\"\",\"zerolinecolor\":\"white\",\"gridwidth\":2},\"zaxis\":{\"backgroundcolor\":\"#E5ECF6\",\"gridcolor\":\"white\",\"linecolor\":\"white\",\"showbackground\":true,\"ticks\":\"\",\"zerolinecolor\":\"white\",\"gridwidth\":2}},\"shapedefaults\":{\"line\":{\"color\":\"#2a3f5f\"}},\"annotationdefaults\":{\"arrowcolor\":\"#2a3f5f\",\"arrowhead\":0,\"arrowwidth\":1},\"geo\":{\"bgcolor\":\"white\",\"landcolor\":\"#E5ECF6\",\"subunitcolor\":\"white\",\"showland\":true,\"showlakes\":true,\"lakecolor\":\"white\"},\"title\":{\"x\":0.05},\"mapbox\":{\"style\":\"light\"}}},\"scene\":{\"domain\":{\"x\":[0.0,0.45],\"y\":[0.0,1.0]}},\"scene2\":{\"domain\":{\"x\":[0.55,1.0],\"y\":[0.0,1.0]}},\"annotations\":[{\"font\":{\"size\":16},\"showarrow\":false,\"text\":\"Player 0\",\"x\":0.225,\"xanchor\":\"center\",\"xref\":\"paper\",\"y\":1.0,\"yanchor\":\"bottom\",\"yref\":\"paper\"},{\"font\":{\"size\":16},\"showarrow\":false,\"text\":\"Player 1\",\"x\":0.775,\"xanchor\":\"center\",\"xref\":\"paper\",\"y\":1.0,\"yanchor\":\"bottom\",\"yref\":\"paper\"}],\"title\":{\"text\":\"Both Players\"},\"height\":600,\"width\":1200},                        {\"responsive\": true}                    ).then(function(){\n",
       "                            \n",
       "var gd = document.getElementById('3aba50e3-6663-4e3a-8fd3-eb2fb13ca73a');\n",
       "var x = new MutationObserver(function (mutations, observer) {{\n",
       "        var display = window.getComputedStyle(gd).display;\n",
       "        if (!display || display === 'none') {{\n",
       "            console.log([gd, 'removed!']);\n",
       "            Plotly.purge(gd);\n",
       "            observer.disconnect();\n",
       "        }}\n",
       "}});\n",
       "\n",
       "// Listen for the removal of the full notebook cells\n",
       "var notebookContainer = gd.closest('#notebook-container');\n",
       "if (notebookContainer) {{\n",
       "    x.observe(notebookContainer, {childList: true});\n",
       "}}\n",
       "\n",
       "// Listen for the clearing of the current output cell\n",
       "var outputEl = gd.closest('.output');\n",
       "if (outputEl) {{\n",
       "    x.observe(outputEl, {childList: true});\n",
       "}}\n",
       "\n",
       "                        })                };                });            </script>        </div>"
      ]
     },
     "metadata": {},
     "output_type": "display_data"
    }
   ],
   "source": [
    "import plotly.graph_objects as go\n",
    "from plotly.subplots import make_subplots\n",
    "import numpy as np\n",
    "\n",
    "# Assuming we still have the Joint enum and SKELETON_CONNECTIONS defined as before\n",
    "\n",
    "def plot_player_skeleton_plotly(position, player=0):\n",
    "    \"\"\"\n",
    "    Create a Plotly figure of a player's skeleton using the decoded coordinates.\n",
    "    \n",
    "    :param position: A dictionary of joint positions, as returned by decode_position\n",
    "    :param player: The player to plot (0 or 1)\n",
    "    :return: A Plotly Figure object\n",
    "    \"\"\"\n",
    "    # Extract x, y, z coordinates for all joints of the player\n",
    "    x = [position[(player, joint.value)][0] for joint in Joint]\n",
    "    y = [position[(player, joint.value)][1] for joint in Joint]\n",
    "    z = [position[(player, joint.value)][2] for joint in Joint]\n",
    "    \n",
    "    # Create scatter plot for joints\n",
    "    joints_trace = go.Scatter3d(\n",
    "        x=x, y=y, z=z,\n",
    "        mode='markers',\n",
    "        marker=dict(size=5, color='blue'),\n",
    "        name='Joints'\n",
    "    )\n",
    "    \n",
    "    # Create line segments for skeleton connections\n",
    "    lines_traces = []\n",
    "    for start, end in SKELETON_CONNECTIONS:\n",
    "        start_point = position[(player, start.value)]\n",
    "        end_point = position[(player, end.value)]\n",
    "        trace = go.Scatter3d(\n",
    "            x=[start_point[0], end_point[0]],\n",
    "            y=[start_point[1], end_point[1]],\n",
    "            z=[start_point[2], end_point[2]],\n",
    "            mode='lines',\n",
    "            line=dict(color='red', width=2),\n",
    "            name=f'{start.name} to {end.name}'\n",
    "        )\n",
    "        lines_traces.append(trace)\n",
    "    \n",
    "    # Combine all traces\n",
    "    traces = [joints_trace] + lines_traces\n",
    "    \n",
    "    # Create the layout\n",
    "    layout = go.Layout(\n",
    "        scene=dict(\n",
    "            xaxis_title='X',\n",
    "            yaxis_title='Y',\n",
    "            zaxis_title='Z',\n",
    "            aspectmode='data'  # This ensures equal aspect ratio\n",
    "        ),\n",
    "        title=f'Player {player} Skeleton'\n",
    "    )\n",
    "    \n",
    "    # Create and return the figure\n",
    "    fig = go.Figure(data=traces, layout=layout)\n",
    "    return fig\n",
    "\n",
    "def plot_both_players_plotly(position):\n",
    "    \"\"\"\n",
    "    Create a Plotly figure with skeletons for both players side by side.\n",
    "    \n",
    "    :param position: A dictionary of joint positions, as returned by decode_position\n",
    "    :return: A Plotly Figure object\n",
    "    \"\"\"\n",
    "    # Create subplots\n",
    "    fig = make_subplots(\n",
    "        rows=1, cols=2,\n",
    "        specs=[[{'type': 'scene'}, {'type': 'scene'}]],\n",
    "        subplot_titles=('Player 0', 'Player 1')\n",
    "    )\n",
    "    \n",
    "    # Plot player 0\n",
    "    player0_fig = plot_player_skeleton_plotly(position, player=0)\n",
    "    for trace in player0_fig.data:\n",
    "        fig.add_trace(trace, row=1, col=1)\n",
    "    \n",
    "    # Plot player 1\n",
    "    player1_fig = plot_player_skeleton_plotly(position, player=1)\n",
    "    for trace in player1_fig.data:\n",
    "        fig.add_trace(trace, row=1, col=2)\n",
    "    \n",
    "    # Update layout\n",
    "    fig.update_layout(height=600, width=1200, title_text=\"Both Players\")\n",
    "    \n",
    "    return fig\n",
    "\n",
    "\n",
    "\n",
    "\n",
    "# Example usage:\n",
    "encoded_position = imanari\n",
    "decoded_position = decode_position(encoded_position)\n",
    "fig = plot_both_players_plotly(decoded_position)\n",
    "fig.show()"
   ]
  },
  {
   "cell_type": "code",
   "execution_count": 495,
   "id": "918c2b63-88a2-442f-844a-6c22dd826ed1",
   "metadata": {},
   "outputs": [
    {
     "data": {
      "application/vnd.plotly.v1+json": {
       "config": {
        "plotlyServerURL": "https://plot.ly"
       },
       "data": [
        {
         "marker": {
          "color": "blue",
          "size": 5
         },
         "mode": "markers",
         "name": "Joints",
         "scene": "scene",
         "type": "scatter3d",
         "x": [
          0.871,
          1.763,
          0.7970000000000002,
          1.4769999999999999,
          0.8460000000000001,
          1.592,
          0.786,
          1.4929999999999999,
          0.8730000000000002,
          1.089,
          0.6800000000000002,
          0.9889999999999999,
          0.4969999999999999,
          0.9510000000000001,
          0.6419999999999999,
          0.722,
          0.6869999999999998,
          0.6459999999999999,
          0.722,
          0.5419999999999998,
          0.907,
          0.8330000000000002,
          0.8380000000000001
         ],
         "y": [
          0.697,
          0.679,
          0.909,
          0.668,
          0.828,
          0.727,
          0.68,
          1.099,
          1.098,
          1.164,
          1.514,
          1.474,
          1.298,
          1.2,
          1.162,
          1.061,
          1.1,
          1.109,
          0.993,
          1.108,
          1.248,
          1.495,
          1.646
         ],
         "z": [
          -1.423,
          -1.856,
          -1.5070000000000001,
          -1.821,
          -1.544,
          -1.857,
          -1.942,
          1.798,
          -1.8820000000000001,
          -1.908,
          1.581,
          1.415,
          1.6320000000000001,
          1.3860000000000001,
          1.46,
          1.5070000000000001,
          1.4569999999999999,
          1.505,
          1.509,
          1.5750000000000002,
          1.795,
          1.5019999999999998,
          1.3610000000000002
         ]
        },
        {
         "line": {
          "color": "red",
          "width": 2
         },
         "mode": "lines",
         "name": "LeftToe to LeftAnkle",
         "scene": "scene",
         "type": "scatter3d",
         "x": [
          0.871,
          0.8460000000000001
         ],
         "y": [
          0.697,
          0.828
         ],
         "z": [
          -1.423,
          -1.544
         ]
        },
        {
         "line": {
          "color": "red",
          "width": 2
         },
         "mode": "lines",
         "name": "RightToe to RightAnkle",
         "scene": "scene",
         "type": "scatter3d",
         "x": [
          1.763,
          1.592
         ],
         "y": [
          0.679,
          0.727
         ],
         "z": [
          -1.856,
          -1.857
         ]
        },
        {
         "line": {
          "color": "red",
          "width": 2
         },
         "mode": "lines",
         "name": "LeftHeel to LeftAnkle",
         "scene": "scene",
         "type": "scatter3d",
         "x": [
          0.7970000000000002,
          0.8460000000000001
         ],
         "y": [
          0.909,
          0.828
         ],
         "z": [
          -1.5070000000000001,
          -1.544
         ]
        },
        {
         "line": {
          "color": "red",
          "width": 2
         },
         "mode": "lines",
         "name": "RightHeel to RightAnkle",
         "scene": "scene",
         "type": "scatter3d",
         "x": [
          1.4769999999999999,
          1.592
         ],
         "y": [
          0.668,
          0.727
         ],
         "z": [
          -1.821,
          -1.857
         ]
        },
        {
         "line": {
          "color": "red",
          "width": 2
         },
         "mode": "lines",
         "name": "LeftAnkle to LeftKnee",
         "scene": "scene",
         "type": "scatter3d",
         "x": [
          0.8460000000000001,
          0.786
         ],
         "y": [
          0.828,
          0.68
         ],
         "z": [
          -1.544,
          -1.942
         ]
        },
        {
         "line": {
          "color": "red",
          "width": 2
         },
         "mode": "lines",
         "name": "RightAnkle to RightKnee",
         "scene": "scene",
         "type": "scatter3d",
         "x": [
          1.592,
          1.4929999999999999
         ],
         "y": [
          0.727,
          1.099
         ],
         "z": [
          -1.857,
          1.798
         ]
        },
        {
         "line": {
          "color": "red",
          "width": 2
         },
         "mode": "lines",
         "name": "LeftKnee to LeftHip",
         "scene": "scene",
         "type": "scatter3d",
         "x": [
          0.786,
          0.8730000000000002
         ],
         "y": [
          0.68,
          1.098
         ],
         "z": [
          -1.942,
          -1.8820000000000001
         ]
        },
        {
         "line": {
          "color": "red",
          "width": 2
         },
         "mode": "lines",
         "name": "RightKnee to RightHip",
         "scene": "scene",
         "type": "scatter3d",
         "x": [
          1.4929999999999999,
          1.089
         ],
         "y": [
          1.099,
          1.164
         ],
         "z": [
          1.798,
          -1.908
         ]
        },
        {
         "line": {
          "color": "red",
          "width": 2
         },
         "mode": "lines",
         "name": "LeftHip to Core",
         "scene": "scene",
         "type": "scatter3d",
         "x": [
          0.8730000000000002,
          0.907
         ],
         "y": [
          1.098,
          1.248
         ],
         "z": [
          -1.8820000000000001,
          1.795
         ]
        },
        {
         "line": {
          "color": "red",
          "width": 2
         },
         "mode": "lines",
         "name": "RightHip to Core",
         "scene": "scene",
         "type": "scatter3d",
         "x": [
          1.089,
          0.907
         ],
         "y": [
          1.164,
          1.248
         ],
         "z": [
          -1.908,
          1.795
         ]
        },
        {
         "line": {
          "color": "red",
          "width": 2
         },
         "mode": "lines",
         "name": "Core to Neck",
         "scene": "scene",
         "type": "scatter3d",
         "x": [
          0.907,
          0.8330000000000002
         ],
         "y": [
          1.248,
          1.495
         ],
         "z": [
          1.795,
          1.5019999999999998
         ]
        },
        {
         "line": {
          "color": "red",
          "width": 2
         },
         "mode": "lines",
         "name": "Neck to Head",
         "scene": "scene",
         "type": "scatter3d",
         "x": [
          0.8330000000000002,
          0.8380000000000001
         ],
         "y": [
          1.495,
          1.646
         ],
         "z": [
          1.5019999999999998,
          1.3610000000000002
         ]
        },
        {
         "line": {
          "color": "red",
          "width": 2
         },
         "mode": "lines",
         "name": "Neck to LeftShoulder",
         "scene": "scene",
         "type": "scatter3d",
         "x": [
          0.8330000000000002,
          0.6800000000000002
         ],
         "y": [
          1.495,
          1.514
         ],
         "z": [
          1.5019999999999998,
          1.581
         ]
        },
        {
         "line": {
          "color": "red",
          "width": 2
         },
         "mode": "lines",
         "name": "Neck to RightShoulder",
         "scene": "scene",
         "type": "scatter3d",
         "x": [
          0.8330000000000002,
          0.9889999999999999
         ],
         "y": [
          1.495,
          1.474
         ],
         "z": [
          1.5019999999999998,
          1.415
         ]
        },
        {
         "line": {
          "color": "red",
          "width": 2
         },
         "mode": "lines",
         "name": "LeftShoulder to LeftElbow",
         "scene": "scene",
         "type": "scatter3d",
         "x": [
          0.6800000000000002,
          0.4969999999999999
         ],
         "y": [
          1.514,
          1.298
         ],
         "z": [
          1.581,
          1.6320000000000001
         ]
        },
        {
         "line": {
          "color": "red",
          "width": 2
         },
         "mode": "lines",
         "name": "RightShoulder to RightElbow",
         "scene": "scene",
         "type": "scatter3d",
         "x": [
          0.9889999999999999,
          0.9510000000000001
         ],
         "y": [
          1.474,
          1.2
         ],
         "z": [
          1.415,
          1.3860000000000001
         ]
        },
        {
         "line": {
          "color": "red",
          "width": 2
         },
         "mode": "lines",
         "name": "LeftElbow to LeftWrist",
         "scene": "scene",
         "type": "scatter3d",
         "x": [
          0.4969999999999999,
          0.6419999999999999
         ],
         "y": [
          1.298,
          1.162
         ],
         "z": [
          1.6320000000000001,
          1.46
         ]
        },
        {
         "line": {
          "color": "red",
          "width": 2
         },
         "mode": "lines",
         "name": "RightElbow to RightWrist",
         "scene": "scene",
         "type": "scatter3d",
         "x": [
          0.9510000000000001,
          0.722
         ],
         "y": [
          1.2,
          1.061
         ],
         "z": [
          1.3860000000000001,
          1.5070000000000001
         ]
        },
        {
         "line": {
          "color": "red",
          "width": 2
         },
         "mode": "lines",
         "name": "LeftWrist to LeftHand",
         "scene": "scene",
         "type": "scatter3d",
         "x": [
          0.6419999999999999,
          0.6869999999999998
         ],
         "y": [
          1.162,
          1.1
         ],
         "z": [
          1.46,
          1.4569999999999999
         ]
        },
        {
         "line": {
          "color": "red",
          "width": 2
         },
         "mode": "lines",
         "name": "RightWrist to RightHand",
         "scene": "scene",
         "type": "scatter3d",
         "x": [
          0.722,
          0.6459999999999999
         ],
         "y": [
          1.061,
          1.109
         ],
         "z": [
          1.5070000000000001,
          1.505
         ]
        },
        {
         "line": {
          "color": "red",
          "width": 2
         },
         "mode": "lines",
         "name": "LeftHand to LeftFingers",
         "scene": "scene",
         "type": "scatter3d",
         "x": [
          0.6869999999999998,
          0.722
         ],
         "y": [
          1.1,
          0.993
         ],
         "z": [
          1.4569999999999999,
          1.509
         ]
        },
        {
         "line": {
          "color": "red",
          "width": 2
         },
         "mode": "lines",
         "name": "RightHand to RightFingers",
         "scene": "scene",
         "type": "scatter3d",
         "x": [
          0.6459999999999999,
          0.5419999999999998
         ],
         "y": [
          1.109,
          1.108
         ],
         "z": [
          1.505,
          1.5750000000000002
         ]
        },
        {
         "marker": {
          "color": "blue",
          "size": 5
         },
         "mode": "markers",
         "name": "Joints",
         "scene": "scene2",
         "type": "scatter3d",
         "x": [
          0.9670000000000001,
          0.7530000000000001,
          0.7530000000000001,
          0.6309999999999998,
          0.81,
          0.6059999999999999,
          0.9060000000000001,
          0.69,
          0.69,
          0.5720000000000001,
          0.9460000000000002,
          0.7210000000000001,
          1.0699999999999998,
          0.4849999999999999,
          0.9830000000000001,
          0.69,
          1.064,
          0.7269999999999999,
          1.056,
          0.7709999999999999,
          0.6339999999999999,
          0.8780000000000001,
          1.024
         ],
         "y": [
          0.66,
          0.661,
          0.666,
          0.66,
          0.722,
          0.727,
          1.14,
          1.153,
          1.504,
          1.512,
          1.955,
          2.036,
          1.703,
          1.814,
          1.493,
          1.622,
          1.594,
          1.647,
          1.562,
          1.589,
          1.751,
          1.988,
          2.06
         ],
         "z": [
          1.2970000000000002,
          1.806,
          1.206,
          1.609,
          1.2429999999999999,
          1.5979999999999999,
          1.2400000000000002,
          1.5910000000000002,
          1.1829999999999998,
          1.383,
          1.2850000000000001,
          1.488,
          1.162,
          1.4289999999999998,
          1.439,
          1.557,
          1.5070000000000001,
          1.6269999999999998,
          1.5790000000000002,
          1.6019999999999999,
          1.27,
          1.355,
          1.4980000000000002
         ]
        },
        {
         "line": {
          "color": "red",
          "width": 2
         },
         "mode": "lines",
         "name": "LeftToe to LeftAnkle",
         "scene": "scene2",
         "type": "scatter3d",
         "x": [
          0.9670000000000001,
          0.81
         ],
         "y": [
          0.66,
          0.722
         ],
         "z": [
          1.2970000000000002,
          1.2429999999999999
         ]
        },
        {
         "line": {
          "color": "red",
          "width": 2
         },
         "mode": "lines",
         "name": "RightToe to RightAnkle",
         "scene": "scene2",
         "type": "scatter3d",
         "x": [
          0.7530000000000001,
          0.6059999999999999
         ],
         "y": [
          0.661,
          0.727
         ],
         "z": [
          1.806,
          1.5979999999999999
         ]
        },
        {
         "line": {
          "color": "red",
          "width": 2
         },
         "mode": "lines",
         "name": "LeftHeel to LeftAnkle",
         "scene": "scene2",
         "type": "scatter3d",
         "x": [
          0.7530000000000001,
          0.81
         ],
         "y": [
          0.666,
          0.722
         ],
         "z": [
          1.206,
          1.2429999999999999
         ]
        },
        {
         "line": {
          "color": "red",
          "width": 2
         },
         "mode": "lines",
         "name": "RightHeel to RightAnkle",
         "scene": "scene2",
         "type": "scatter3d",
         "x": [
          0.6309999999999998,
          0.6059999999999999
         ],
         "y": [
          0.66,
          0.727
         ],
         "z": [
          1.609,
          1.5979999999999999
         ]
        },
        {
         "line": {
          "color": "red",
          "width": 2
         },
         "mode": "lines",
         "name": "LeftAnkle to LeftKnee",
         "scene": "scene2",
         "type": "scatter3d",
         "x": [
          0.81,
          0.9060000000000001
         ],
         "y": [
          0.722,
          1.14
         ],
         "z": [
          1.2429999999999999,
          1.2400000000000002
         ]
        },
        {
         "line": {
          "color": "red",
          "width": 2
         },
         "mode": "lines",
         "name": "RightAnkle to RightKnee",
         "scene": "scene2",
         "type": "scatter3d",
         "x": [
          0.6059999999999999,
          0.69
         ],
         "y": [
          0.727,
          1.153
         ],
         "z": [
          1.5979999999999999,
          1.5910000000000002
         ]
        },
        {
         "line": {
          "color": "red",
          "width": 2
         },
         "mode": "lines",
         "name": "LeftKnee to LeftHip",
         "scene": "scene2",
         "type": "scatter3d",
         "x": [
          0.9060000000000001,
          0.69
         ],
         "y": [
          1.14,
          1.504
         ],
         "z": [
          1.2400000000000002,
          1.1829999999999998
         ]
        },
        {
         "line": {
          "color": "red",
          "width": 2
         },
         "mode": "lines",
         "name": "RightKnee to RightHip",
         "scene": "scene2",
         "type": "scatter3d",
         "x": [
          0.69,
          0.5720000000000001
         ],
         "y": [
          1.153,
          1.512
         ],
         "z": [
          1.5910000000000002,
          1.383
         ]
        },
        {
         "line": {
          "color": "red",
          "width": 2
         },
         "mode": "lines",
         "name": "LeftHip to Core",
         "scene": "scene2",
         "type": "scatter3d",
         "x": [
          0.69,
          0.6339999999999999
         ],
         "y": [
          1.504,
          1.751
         ],
         "z": [
          1.1829999999999998,
          1.27
         ]
        },
        {
         "line": {
          "color": "red",
          "width": 2
         },
         "mode": "lines",
         "name": "RightHip to Core",
         "scene": "scene2",
         "type": "scatter3d",
         "x": [
          0.5720000000000001,
          0.6339999999999999
         ],
         "y": [
          1.512,
          1.751
         ],
         "z": [
          1.383,
          1.27
         ]
        },
        {
         "line": {
          "color": "red",
          "width": 2
         },
         "mode": "lines",
         "name": "Core to Neck",
         "scene": "scene2",
         "type": "scatter3d",
         "x": [
          0.6339999999999999,
          0.8780000000000001
         ],
         "y": [
          1.751,
          1.988
         ],
         "z": [
          1.27,
          1.355
         ]
        },
        {
         "line": {
          "color": "red",
          "width": 2
         },
         "mode": "lines",
         "name": "Neck to Head",
         "scene": "scene2",
         "type": "scatter3d",
         "x": [
          0.8780000000000001,
          1.024
         ],
         "y": [
          1.988,
          2.06
         ],
         "z": [
          1.355,
          1.4980000000000002
         ]
        },
        {
         "line": {
          "color": "red",
          "width": 2
         },
         "mode": "lines",
         "name": "Neck to LeftShoulder",
         "scene": "scene2",
         "type": "scatter3d",
         "x": [
          0.8780000000000001,
          0.9460000000000002
         ],
         "y": [
          1.988,
          1.955
         ],
         "z": [
          1.355,
          1.2850000000000001
         ]
        },
        {
         "line": {
          "color": "red",
          "width": 2
         },
         "mode": "lines",
         "name": "Neck to RightShoulder",
         "scene": "scene2",
         "type": "scatter3d",
         "x": [
          0.8780000000000001,
          0.7210000000000001
         ],
         "y": [
          1.988,
          2.036
         ],
         "z": [
          1.355,
          1.488
         ]
        },
        {
         "line": {
          "color": "red",
          "width": 2
         },
         "mode": "lines",
         "name": "LeftShoulder to LeftElbow",
         "scene": "scene2",
         "type": "scatter3d",
         "x": [
          0.9460000000000002,
          1.0699999999999998
         ],
         "y": [
          1.955,
          1.703
         ],
         "z": [
          1.2850000000000001,
          1.162
         ]
        },
        {
         "line": {
          "color": "red",
          "width": 2
         },
         "mode": "lines",
         "name": "RightShoulder to RightElbow",
         "scene": "scene2",
         "type": "scatter3d",
         "x": [
          0.7210000000000001,
          0.4849999999999999
         ],
         "y": [
          2.036,
          1.814
         ],
         "z": [
          1.488,
          1.4289999999999998
         ]
        },
        {
         "line": {
          "color": "red",
          "width": 2
         },
         "mode": "lines",
         "name": "LeftElbow to LeftWrist",
         "scene": "scene2",
         "type": "scatter3d",
         "x": [
          1.0699999999999998,
          0.9830000000000001
         ],
         "y": [
          1.703,
          1.493
         ],
         "z": [
          1.162,
          1.439
         ]
        },
        {
         "line": {
          "color": "red",
          "width": 2
         },
         "mode": "lines",
         "name": "RightElbow to RightWrist",
         "scene": "scene2",
         "type": "scatter3d",
         "x": [
          0.4849999999999999,
          0.69
         ],
         "y": [
          1.814,
          1.622
         ],
         "z": [
          1.4289999999999998,
          1.557
         ]
        },
        {
         "line": {
          "color": "red",
          "width": 2
         },
         "mode": "lines",
         "name": "LeftWrist to LeftHand",
         "scene": "scene2",
         "type": "scatter3d",
         "x": [
          0.9830000000000001,
          1.064
         ],
         "y": [
          1.493,
          1.594
         ],
         "z": [
          1.439,
          1.5070000000000001
         ]
        },
        {
         "line": {
          "color": "red",
          "width": 2
         },
         "mode": "lines",
         "name": "RightWrist to RightHand",
         "scene": "scene2",
         "type": "scatter3d",
         "x": [
          0.69,
          0.7269999999999999
         ],
         "y": [
          1.622,
          1.647
         ],
         "z": [
          1.557,
          1.6269999999999998
         ]
        },
        {
         "line": {
          "color": "red",
          "width": 2
         },
         "mode": "lines",
         "name": "LeftHand to LeftFingers",
         "scene": "scene2",
         "type": "scatter3d",
         "x": [
          1.064,
          1.056
         ],
         "y": [
          1.594,
          1.562
         ],
         "z": [
          1.5070000000000001,
          1.5790000000000002
         ]
        },
        {
         "line": {
          "color": "red",
          "width": 2
         },
         "mode": "lines",
         "name": "RightHand to RightFingers",
         "scene": "scene2",
         "type": "scatter3d",
         "x": [
          0.7269999999999999,
          0.7709999999999999
         ],
         "y": [
          1.647,
          1.589
         ],
         "z": [
          1.6269999999999998,
          1.6019999999999999
         ]
        }
       ],
       "layout": {
        "annotations": [
         {
          "font": {
           "size": 16
          },
          "showarrow": false,
          "text": "Player 0",
          "x": 0.225,
          "xanchor": "center",
          "xref": "paper",
          "y": 1,
          "yanchor": "bottom",
          "yref": "paper"
         },
         {
          "font": {
           "size": 16
          },
          "showarrow": false,
          "text": "Player 1",
          "x": 0.775,
          "xanchor": "center",
          "xref": "paper",
          "y": 1,
          "yanchor": "bottom",
          "yref": "paper"
         }
        ],
        "height": 600,
        "scene": {
         "aspectmode": "auto",
         "aspectratio": {
          "x": 0.7595429169634953,
          "y": 0.5867559026779606,
          "z": 2.243831366069094
         },
         "camera": {
          "center": {
           "x": 0,
           "y": 0,
           "z": 0
          },
          "eye": {
           "x": -0.9470926214568588,
           "y": 2.8471657464664664,
           "z": 5.067269832186091
          },
          "projection": {
           "type": "perspective"
          },
          "up": {
           "x": 0,
           "y": 0,
           "z": 1
          }
         },
         "domain": {
          "x": [
           0,
           0.45
          ],
          "y": [
           0,
           1
          ]
         }
        },
        "scene2": {
         "aspectmode": "auto",
         "aspectratio": {
          "x": 0.7240456405994452,
          "y": 1.7327587980157666,
          "z": 0.7970690470872528
         },
         "camera": {
          "center": {
           "x": 0,
           "y": 0,
           "z": 0
          },
          "eye": {
           "x": 1.4341189166050758,
           "y": 1.1250408421621882,
           "z": 1.1683689641985866
          },
          "projection": {
           "type": "perspective"
          },
          "up": {
           "x": 0,
           "y": 0,
           "z": 1
          }
         },
         "domain": {
          "x": [
           0.55,
           1
          ],
          "y": [
           0,
           1
          ]
         }
        },
        "template": {
         "data": {
          "bar": [
           {
            "error_x": {
             "color": "#2a3f5f"
            },
            "error_y": {
             "color": "#2a3f5f"
            },
            "marker": {
             "line": {
              "color": "#E5ECF6",
              "width": 0.5
             },
             "pattern": {
              "fillmode": "overlay",
              "size": 10,
              "solidity": 0.2
             }
            },
            "type": "bar"
           }
          ],
          "barpolar": [
           {
            "marker": {
             "line": {
              "color": "#E5ECF6",
              "width": 0.5
             },
             "pattern": {
              "fillmode": "overlay",
              "size": 10,
              "solidity": 0.2
             }
            },
            "type": "barpolar"
           }
          ],
          "carpet": [
           {
            "aaxis": {
             "endlinecolor": "#2a3f5f",
             "gridcolor": "white",
             "linecolor": "white",
             "minorgridcolor": "white",
             "startlinecolor": "#2a3f5f"
            },
            "baxis": {
             "endlinecolor": "#2a3f5f",
             "gridcolor": "white",
             "linecolor": "white",
             "minorgridcolor": "white",
             "startlinecolor": "#2a3f5f"
            },
            "type": "carpet"
           }
          ],
          "choropleth": [
           {
            "colorbar": {
             "outlinewidth": 0,
             "ticks": ""
            },
            "type": "choropleth"
           }
          ],
          "contour": [
           {
            "colorbar": {
             "outlinewidth": 0,
             "ticks": ""
            },
            "colorscale": [
             [
              0,
              "#0d0887"
             ],
             [
              0.1111111111111111,
              "#46039f"
             ],
             [
              0.2222222222222222,
              "#7201a8"
             ],
             [
              0.3333333333333333,
              "#9c179e"
             ],
             [
              0.4444444444444444,
              "#bd3786"
             ],
             [
              0.5555555555555556,
              "#d8576b"
             ],
             [
              0.6666666666666666,
              "#ed7953"
             ],
             [
              0.7777777777777778,
              "#fb9f3a"
             ],
             [
              0.8888888888888888,
              "#fdca26"
             ],
             [
              1,
              "#f0f921"
             ]
            ],
            "type": "contour"
           }
          ],
          "contourcarpet": [
           {
            "colorbar": {
             "outlinewidth": 0,
             "ticks": ""
            },
            "type": "contourcarpet"
           }
          ],
          "heatmap": [
           {
            "colorbar": {
             "outlinewidth": 0,
             "ticks": ""
            },
            "colorscale": [
             [
              0,
              "#0d0887"
             ],
             [
              0.1111111111111111,
              "#46039f"
             ],
             [
              0.2222222222222222,
              "#7201a8"
             ],
             [
              0.3333333333333333,
              "#9c179e"
             ],
             [
              0.4444444444444444,
              "#bd3786"
             ],
             [
              0.5555555555555556,
              "#d8576b"
             ],
             [
              0.6666666666666666,
              "#ed7953"
             ],
             [
              0.7777777777777778,
              "#fb9f3a"
             ],
             [
              0.8888888888888888,
              "#fdca26"
             ],
             [
              1,
              "#f0f921"
             ]
            ],
            "type": "heatmap"
           }
          ],
          "heatmapgl": [
           {
            "colorbar": {
             "outlinewidth": 0,
             "ticks": ""
            },
            "colorscale": [
             [
              0,
              "#0d0887"
             ],
             [
              0.1111111111111111,
              "#46039f"
             ],
             [
              0.2222222222222222,
              "#7201a8"
             ],
             [
              0.3333333333333333,
              "#9c179e"
             ],
             [
              0.4444444444444444,
              "#bd3786"
             ],
             [
              0.5555555555555556,
              "#d8576b"
             ],
             [
              0.6666666666666666,
              "#ed7953"
             ],
             [
              0.7777777777777778,
              "#fb9f3a"
             ],
             [
              0.8888888888888888,
              "#fdca26"
             ],
             [
              1,
              "#f0f921"
             ]
            ],
            "type": "heatmapgl"
           }
          ],
          "histogram": [
           {
            "marker": {
             "pattern": {
              "fillmode": "overlay",
              "size": 10,
              "solidity": 0.2
             }
            },
            "type": "histogram"
           }
          ],
          "histogram2d": [
           {
            "colorbar": {
             "outlinewidth": 0,
             "ticks": ""
            },
            "colorscale": [
             [
              0,
              "#0d0887"
             ],
             [
              0.1111111111111111,
              "#46039f"
             ],
             [
              0.2222222222222222,
              "#7201a8"
             ],
             [
              0.3333333333333333,
              "#9c179e"
             ],
             [
              0.4444444444444444,
              "#bd3786"
             ],
             [
              0.5555555555555556,
              "#d8576b"
             ],
             [
              0.6666666666666666,
              "#ed7953"
             ],
             [
              0.7777777777777778,
              "#fb9f3a"
             ],
             [
              0.8888888888888888,
              "#fdca26"
             ],
             [
              1,
              "#f0f921"
             ]
            ],
            "type": "histogram2d"
           }
          ],
          "histogram2dcontour": [
           {
            "colorbar": {
             "outlinewidth": 0,
             "ticks": ""
            },
            "colorscale": [
             [
              0,
              "#0d0887"
             ],
             [
              0.1111111111111111,
              "#46039f"
             ],
             [
              0.2222222222222222,
              "#7201a8"
             ],
             [
              0.3333333333333333,
              "#9c179e"
             ],
             [
              0.4444444444444444,
              "#bd3786"
             ],
             [
              0.5555555555555556,
              "#d8576b"
             ],
             [
              0.6666666666666666,
              "#ed7953"
             ],
             [
              0.7777777777777778,
              "#fb9f3a"
             ],
             [
              0.8888888888888888,
              "#fdca26"
             ],
             [
              1,
              "#f0f921"
             ]
            ],
            "type": "histogram2dcontour"
           }
          ],
          "mesh3d": [
           {
            "colorbar": {
             "outlinewidth": 0,
             "ticks": ""
            },
            "type": "mesh3d"
           }
          ],
          "parcoords": [
           {
            "line": {
             "colorbar": {
              "outlinewidth": 0,
              "ticks": ""
             }
            },
            "type": "parcoords"
           }
          ],
          "pie": [
           {
            "automargin": true,
            "type": "pie"
           }
          ],
          "scatter": [
           {
            "fillpattern": {
             "fillmode": "overlay",
             "size": 10,
             "solidity": 0.2
            },
            "type": "scatter"
           }
          ],
          "scatter3d": [
           {
            "line": {
             "colorbar": {
              "outlinewidth": 0,
              "ticks": ""
             }
            },
            "marker": {
             "colorbar": {
              "outlinewidth": 0,
              "ticks": ""
             }
            },
            "type": "scatter3d"
           }
          ],
          "scattercarpet": [
           {
            "marker": {
             "colorbar": {
              "outlinewidth": 0,
              "ticks": ""
             }
            },
            "type": "scattercarpet"
           }
          ],
          "scattergeo": [
           {
            "marker": {
             "colorbar": {
              "outlinewidth": 0,
              "ticks": ""
             }
            },
            "type": "scattergeo"
           }
          ],
          "scattergl": [
           {
            "marker": {
             "colorbar": {
              "outlinewidth": 0,
              "ticks": ""
             }
            },
            "type": "scattergl"
           }
          ],
          "scattermapbox": [
           {
            "marker": {
             "colorbar": {
              "outlinewidth": 0,
              "ticks": ""
             }
            },
            "type": "scattermapbox"
           }
          ],
          "scatterpolar": [
           {
            "marker": {
             "colorbar": {
              "outlinewidth": 0,
              "ticks": ""
             }
            },
            "type": "scatterpolar"
           }
          ],
          "scatterpolargl": [
           {
            "marker": {
             "colorbar": {
              "outlinewidth": 0,
              "ticks": ""
             }
            },
            "type": "scatterpolargl"
           }
          ],
          "scatterternary": [
           {
            "marker": {
             "colorbar": {
              "outlinewidth": 0,
              "ticks": ""
             }
            },
            "type": "scatterternary"
           }
          ],
          "surface": [
           {
            "colorbar": {
             "outlinewidth": 0,
             "ticks": ""
            },
            "colorscale": [
             [
              0,
              "#0d0887"
             ],
             [
              0.1111111111111111,
              "#46039f"
             ],
             [
              0.2222222222222222,
              "#7201a8"
             ],
             [
              0.3333333333333333,
              "#9c179e"
             ],
             [
              0.4444444444444444,
              "#bd3786"
             ],
             [
              0.5555555555555556,
              "#d8576b"
             ],
             [
              0.6666666666666666,
              "#ed7953"
             ],
             [
              0.7777777777777778,
              "#fb9f3a"
             ],
             [
              0.8888888888888888,
              "#fdca26"
             ],
             [
              1,
              "#f0f921"
             ]
            ],
            "type": "surface"
           }
          ],
          "table": [
           {
            "cells": {
             "fill": {
              "color": "#EBF0F8"
             },
             "line": {
              "color": "white"
             }
            },
            "header": {
             "fill": {
              "color": "#C8D4E3"
             },
             "line": {
              "color": "white"
             }
            },
            "type": "table"
           }
          ]
         },
         "layout": {
          "annotationdefaults": {
           "arrowcolor": "#2a3f5f",
           "arrowhead": 0,
           "arrowwidth": 1
          },
          "autotypenumbers": "strict",
          "coloraxis": {
           "colorbar": {
            "outlinewidth": 0,
            "ticks": ""
           }
          },
          "colorscale": {
           "diverging": [
            [
             0,
             "#8e0152"
            ],
            [
             0.1,
             "#c51b7d"
            ],
            [
             0.2,
             "#de77ae"
            ],
            [
             0.3,
             "#f1b6da"
            ],
            [
             0.4,
             "#fde0ef"
            ],
            [
             0.5,
             "#f7f7f7"
            ],
            [
             0.6,
             "#e6f5d0"
            ],
            [
             0.7,
             "#b8e186"
            ],
            [
             0.8,
             "#7fbc41"
            ],
            [
             0.9,
             "#4d9221"
            ],
            [
             1,
             "#276419"
            ]
           ],
           "sequential": [
            [
             0,
             "#0d0887"
            ],
            [
             0.1111111111111111,
             "#46039f"
            ],
            [
             0.2222222222222222,
             "#7201a8"
            ],
            [
             0.3333333333333333,
             "#9c179e"
            ],
            [
             0.4444444444444444,
             "#bd3786"
            ],
            [
             0.5555555555555556,
             "#d8576b"
            ],
            [
             0.6666666666666666,
             "#ed7953"
            ],
            [
             0.7777777777777778,
             "#fb9f3a"
            ],
            [
             0.8888888888888888,
             "#fdca26"
            ],
            [
             1,
             "#f0f921"
            ]
           ],
           "sequentialminus": [
            [
             0,
             "#0d0887"
            ],
            [
             0.1111111111111111,
             "#46039f"
            ],
            [
             0.2222222222222222,
             "#7201a8"
            ],
            [
             0.3333333333333333,
             "#9c179e"
            ],
            [
             0.4444444444444444,
             "#bd3786"
            ],
            [
             0.5555555555555556,
             "#d8576b"
            ],
            [
             0.6666666666666666,
             "#ed7953"
            ],
            [
             0.7777777777777778,
             "#fb9f3a"
            ],
            [
             0.8888888888888888,
             "#fdca26"
            ],
            [
             1,
             "#f0f921"
            ]
           ]
          },
          "colorway": [
           "#636efa",
           "#EF553B",
           "#00cc96",
           "#ab63fa",
           "#FFA15A",
           "#19d3f3",
           "#FF6692",
           "#B6E880",
           "#FF97FF",
           "#FECB52"
          ],
          "font": {
           "color": "#2a3f5f"
          },
          "geo": {
           "bgcolor": "white",
           "lakecolor": "white",
           "landcolor": "#E5ECF6",
           "showlakes": true,
           "showland": true,
           "subunitcolor": "white"
          },
          "hoverlabel": {
           "align": "left"
          },
          "hovermode": "closest",
          "mapbox": {
           "style": "light"
          },
          "paper_bgcolor": "white",
          "plot_bgcolor": "#E5ECF6",
          "polar": {
           "angularaxis": {
            "gridcolor": "white",
            "linecolor": "white",
            "ticks": ""
           },
           "bgcolor": "#E5ECF6",
           "radialaxis": {
            "gridcolor": "white",
            "linecolor": "white",
            "ticks": ""
           }
          },
          "scene": {
           "xaxis": {
            "backgroundcolor": "#E5ECF6",
            "gridcolor": "white",
            "gridwidth": 2,
            "linecolor": "white",
            "showbackground": true,
            "ticks": "",
            "zerolinecolor": "white"
           },
           "yaxis": {
            "backgroundcolor": "#E5ECF6",
            "gridcolor": "white",
            "gridwidth": 2,
            "linecolor": "white",
            "showbackground": true,
            "ticks": "",
            "zerolinecolor": "white"
           },
           "zaxis": {
            "backgroundcolor": "#E5ECF6",
            "gridcolor": "white",
            "gridwidth": 2,
            "linecolor": "white",
            "showbackground": true,
            "ticks": "",
            "zerolinecolor": "white"
           }
          },
          "shapedefaults": {
           "line": {
            "color": "#2a3f5f"
           }
          },
          "ternary": {
           "aaxis": {
            "gridcolor": "white",
            "linecolor": "white",
            "ticks": ""
           },
           "baxis": {
            "gridcolor": "white",
            "linecolor": "white",
            "ticks": ""
           },
           "bgcolor": "#E5ECF6",
           "caxis": {
            "gridcolor": "white",
            "linecolor": "white",
            "ticks": ""
           }
          },
          "title": {
           "x": 0.05
          },
          "xaxis": {
           "automargin": true,
           "gridcolor": "white",
           "linecolor": "white",
           "ticks": "",
           "title": {
            "standoff": 15
           },
           "zerolinecolor": "white",
           "zerolinewidth": 2
          },
          "yaxis": {
           "automargin": true,
           "gridcolor": "white",
           "linecolor": "white",
           "ticks": "",
           "title": {
            "standoff": 15
           },
           "zerolinecolor": "white",
           "zerolinewidth": 2
          }
         }
        },
        "title": {
         "text": "Both Players"
        },
        "width": 1200
       }
      },
      "text/html": [
       "<div>                            <div id=\"0f789339-ab62-4b8c-afb8-ba10015e417c\" class=\"plotly-graph-div\" style=\"height:600px; width:1200px;\"></div>            <script type=\"text/javascript\">                require([\"plotly\"], function(Plotly) {                    window.PLOTLYENV=window.PLOTLYENV || {};                                    if (document.getElementById(\"0f789339-ab62-4b8c-afb8-ba10015e417c\")) {                    Plotly.newPlot(                        \"0f789339-ab62-4b8c-afb8-ba10015e417c\",                        [{\"marker\":{\"color\":\"blue\",\"size\":5},\"mode\":\"markers\",\"name\":\"Joints\",\"x\":[0.871,1.763,0.7970000000000002,1.4769999999999999,0.8460000000000001,1.592,0.786,1.4929999999999999,0.8730000000000002,1.089,0.6800000000000002,0.9889999999999999,0.4969999999999999,0.9510000000000001,0.6419999999999999,0.722,0.6869999999999998,0.6459999999999999,0.722,0.5419999999999998,0.907,0.8330000000000002,0.8380000000000001],\"y\":[0.697,0.679,0.909,0.668,0.828,0.727,0.68,1.099,1.098,1.164,1.514,1.474,1.298,1.2,1.162,1.061,1.1,1.109,0.993,1.108,1.248,1.495,1.646],\"z\":[-1.423,-1.856,-1.5070000000000001,-1.821,-1.544,-1.857,-1.942,1.798,-1.8820000000000001,-1.908,1.581,1.415,1.6320000000000001,1.3860000000000001,1.46,1.5070000000000001,1.4569999999999999,1.505,1.509,1.5750000000000002,1.795,1.5019999999999998,1.3610000000000002],\"type\":\"scatter3d\",\"scene\":\"scene\"},{\"line\":{\"color\":\"red\",\"width\":2},\"mode\":\"lines\",\"name\":\"LeftToe to LeftAnkle\",\"x\":[0.871,0.8460000000000001],\"y\":[0.697,0.828],\"z\":[-1.423,-1.544],\"type\":\"scatter3d\",\"scene\":\"scene\"},{\"line\":{\"color\":\"red\",\"width\":2},\"mode\":\"lines\",\"name\":\"RightToe to RightAnkle\",\"x\":[1.763,1.592],\"y\":[0.679,0.727],\"z\":[-1.856,-1.857],\"type\":\"scatter3d\",\"scene\":\"scene\"},{\"line\":{\"color\":\"red\",\"width\":2},\"mode\":\"lines\",\"name\":\"LeftHeel to LeftAnkle\",\"x\":[0.7970000000000002,0.8460000000000001],\"y\":[0.909,0.828],\"z\":[-1.5070000000000001,-1.544],\"type\":\"scatter3d\",\"scene\":\"scene\"},{\"line\":{\"color\":\"red\",\"width\":2},\"mode\":\"lines\",\"name\":\"RightHeel to RightAnkle\",\"x\":[1.4769999999999999,1.592],\"y\":[0.668,0.727],\"z\":[-1.821,-1.857],\"type\":\"scatter3d\",\"scene\":\"scene\"},{\"line\":{\"color\":\"red\",\"width\":2},\"mode\":\"lines\",\"name\":\"LeftAnkle to LeftKnee\",\"x\":[0.8460000000000001,0.786],\"y\":[0.828,0.68],\"z\":[-1.544,-1.942],\"type\":\"scatter3d\",\"scene\":\"scene\"},{\"line\":{\"color\":\"red\",\"width\":2},\"mode\":\"lines\",\"name\":\"RightAnkle to RightKnee\",\"x\":[1.592,1.4929999999999999],\"y\":[0.727,1.099],\"z\":[-1.857,1.798],\"type\":\"scatter3d\",\"scene\":\"scene\"},{\"line\":{\"color\":\"red\",\"width\":2},\"mode\":\"lines\",\"name\":\"LeftKnee to LeftHip\",\"x\":[0.786,0.8730000000000002],\"y\":[0.68,1.098],\"z\":[-1.942,-1.8820000000000001],\"type\":\"scatter3d\",\"scene\":\"scene\"},{\"line\":{\"color\":\"red\",\"width\":2},\"mode\":\"lines\",\"name\":\"RightKnee to RightHip\",\"x\":[1.4929999999999999,1.089],\"y\":[1.099,1.164],\"z\":[1.798,-1.908],\"type\":\"scatter3d\",\"scene\":\"scene\"},{\"line\":{\"color\":\"red\",\"width\":2},\"mode\":\"lines\",\"name\":\"LeftHip to Core\",\"x\":[0.8730000000000002,0.907],\"y\":[1.098,1.248],\"z\":[-1.8820000000000001,1.795],\"type\":\"scatter3d\",\"scene\":\"scene\"},{\"line\":{\"color\":\"red\",\"width\":2},\"mode\":\"lines\",\"name\":\"RightHip to Core\",\"x\":[1.089,0.907],\"y\":[1.164,1.248],\"z\":[-1.908,1.795],\"type\":\"scatter3d\",\"scene\":\"scene\"},{\"line\":{\"color\":\"red\",\"width\":2},\"mode\":\"lines\",\"name\":\"Core to Neck\",\"x\":[0.907,0.8330000000000002],\"y\":[1.248,1.495],\"z\":[1.795,1.5019999999999998],\"type\":\"scatter3d\",\"scene\":\"scene\"},{\"line\":{\"color\":\"red\",\"width\":2},\"mode\":\"lines\",\"name\":\"Neck to Head\",\"x\":[0.8330000000000002,0.8380000000000001],\"y\":[1.495,1.646],\"z\":[1.5019999999999998,1.3610000000000002],\"type\":\"scatter3d\",\"scene\":\"scene\"},{\"line\":{\"color\":\"red\",\"width\":2},\"mode\":\"lines\",\"name\":\"Neck to LeftShoulder\",\"x\":[0.8330000000000002,0.6800000000000002],\"y\":[1.495,1.514],\"z\":[1.5019999999999998,1.581],\"type\":\"scatter3d\",\"scene\":\"scene\"},{\"line\":{\"color\":\"red\",\"width\":2},\"mode\":\"lines\",\"name\":\"Neck to RightShoulder\",\"x\":[0.8330000000000002,0.9889999999999999],\"y\":[1.495,1.474],\"z\":[1.5019999999999998,1.415],\"type\":\"scatter3d\",\"scene\":\"scene\"},{\"line\":{\"color\":\"red\",\"width\":2},\"mode\":\"lines\",\"name\":\"LeftShoulder to LeftElbow\",\"x\":[0.6800000000000002,0.4969999999999999],\"y\":[1.514,1.298],\"z\":[1.581,1.6320000000000001],\"type\":\"scatter3d\",\"scene\":\"scene\"},{\"line\":{\"color\":\"red\",\"width\":2},\"mode\":\"lines\",\"name\":\"RightShoulder to RightElbow\",\"x\":[0.9889999999999999,0.9510000000000001],\"y\":[1.474,1.2],\"z\":[1.415,1.3860000000000001],\"type\":\"scatter3d\",\"scene\":\"scene\"},{\"line\":{\"color\":\"red\",\"width\":2},\"mode\":\"lines\",\"name\":\"LeftElbow to LeftWrist\",\"x\":[0.4969999999999999,0.6419999999999999],\"y\":[1.298,1.162],\"z\":[1.6320000000000001,1.46],\"type\":\"scatter3d\",\"scene\":\"scene\"},{\"line\":{\"color\":\"red\",\"width\":2},\"mode\":\"lines\",\"name\":\"RightElbow to RightWrist\",\"x\":[0.9510000000000001,0.722],\"y\":[1.2,1.061],\"z\":[1.3860000000000001,1.5070000000000001],\"type\":\"scatter3d\",\"scene\":\"scene\"},{\"line\":{\"color\":\"red\",\"width\":2},\"mode\":\"lines\",\"name\":\"LeftWrist to LeftHand\",\"x\":[0.6419999999999999,0.6869999999999998],\"y\":[1.162,1.1],\"z\":[1.46,1.4569999999999999],\"type\":\"scatter3d\",\"scene\":\"scene\"},{\"line\":{\"color\":\"red\",\"width\":2},\"mode\":\"lines\",\"name\":\"RightWrist to RightHand\",\"x\":[0.722,0.6459999999999999],\"y\":[1.061,1.109],\"z\":[1.5070000000000001,1.505],\"type\":\"scatter3d\",\"scene\":\"scene\"},{\"line\":{\"color\":\"red\",\"width\":2},\"mode\":\"lines\",\"name\":\"LeftHand to LeftFingers\",\"x\":[0.6869999999999998,0.722],\"y\":[1.1,0.993],\"z\":[1.4569999999999999,1.509],\"type\":\"scatter3d\",\"scene\":\"scene\"},{\"line\":{\"color\":\"red\",\"width\":2},\"mode\":\"lines\",\"name\":\"RightHand to RightFingers\",\"x\":[0.6459999999999999,0.5419999999999998],\"y\":[1.109,1.108],\"z\":[1.505,1.5750000000000002],\"type\":\"scatter3d\",\"scene\":\"scene\"},{\"marker\":{\"color\":\"blue\",\"size\":5},\"mode\":\"markers\",\"name\":\"Joints\",\"x\":[0.9670000000000001,0.7530000000000001,0.7530000000000001,0.6309999999999998,0.81,0.6059999999999999,0.9060000000000001,0.69,0.69,0.5720000000000001,0.9460000000000002,0.7210000000000001,1.0699999999999998,0.4849999999999999,0.9830000000000001,0.69,1.064,0.7269999999999999,1.056,0.7709999999999999,0.6339999999999999,0.8780000000000001,1.024],\"y\":[0.66,0.661,0.666,0.66,0.722,0.727,1.14,1.153,1.504,1.512,1.955,2.036,1.703,1.814,1.493,1.622,1.594,1.647,1.562,1.589,1.751,1.988,2.06],\"z\":[1.2970000000000002,1.806,1.206,1.609,1.2429999999999999,1.5979999999999999,1.2400000000000002,1.5910000000000002,1.1829999999999998,1.383,1.2850000000000001,1.488,1.162,1.4289999999999998,1.439,1.557,1.5070000000000001,1.6269999999999998,1.5790000000000002,1.6019999999999999,1.27,1.355,1.4980000000000002],\"type\":\"scatter3d\",\"scene\":\"scene2\"},{\"line\":{\"color\":\"red\",\"width\":2},\"mode\":\"lines\",\"name\":\"LeftToe to LeftAnkle\",\"x\":[0.9670000000000001,0.81],\"y\":[0.66,0.722],\"z\":[1.2970000000000002,1.2429999999999999],\"type\":\"scatter3d\",\"scene\":\"scene2\"},{\"line\":{\"color\":\"red\",\"width\":2},\"mode\":\"lines\",\"name\":\"RightToe to RightAnkle\",\"x\":[0.7530000000000001,0.6059999999999999],\"y\":[0.661,0.727],\"z\":[1.806,1.5979999999999999],\"type\":\"scatter3d\",\"scene\":\"scene2\"},{\"line\":{\"color\":\"red\",\"width\":2},\"mode\":\"lines\",\"name\":\"LeftHeel to LeftAnkle\",\"x\":[0.7530000000000001,0.81],\"y\":[0.666,0.722],\"z\":[1.206,1.2429999999999999],\"type\":\"scatter3d\",\"scene\":\"scene2\"},{\"line\":{\"color\":\"red\",\"width\":2},\"mode\":\"lines\",\"name\":\"RightHeel to RightAnkle\",\"x\":[0.6309999999999998,0.6059999999999999],\"y\":[0.66,0.727],\"z\":[1.609,1.5979999999999999],\"type\":\"scatter3d\",\"scene\":\"scene2\"},{\"line\":{\"color\":\"red\",\"width\":2},\"mode\":\"lines\",\"name\":\"LeftAnkle to LeftKnee\",\"x\":[0.81,0.9060000000000001],\"y\":[0.722,1.14],\"z\":[1.2429999999999999,1.2400000000000002],\"type\":\"scatter3d\",\"scene\":\"scene2\"},{\"line\":{\"color\":\"red\",\"width\":2},\"mode\":\"lines\",\"name\":\"RightAnkle to RightKnee\",\"x\":[0.6059999999999999,0.69],\"y\":[0.727,1.153],\"z\":[1.5979999999999999,1.5910000000000002],\"type\":\"scatter3d\",\"scene\":\"scene2\"},{\"line\":{\"color\":\"red\",\"width\":2},\"mode\":\"lines\",\"name\":\"LeftKnee to LeftHip\",\"x\":[0.9060000000000001,0.69],\"y\":[1.14,1.504],\"z\":[1.2400000000000002,1.1829999999999998],\"type\":\"scatter3d\",\"scene\":\"scene2\"},{\"line\":{\"color\":\"red\",\"width\":2},\"mode\":\"lines\",\"name\":\"RightKnee to RightHip\",\"x\":[0.69,0.5720000000000001],\"y\":[1.153,1.512],\"z\":[1.5910000000000002,1.383],\"type\":\"scatter3d\",\"scene\":\"scene2\"},{\"line\":{\"color\":\"red\",\"width\":2},\"mode\":\"lines\",\"name\":\"LeftHip to Core\",\"x\":[0.69,0.6339999999999999],\"y\":[1.504,1.751],\"z\":[1.1829999999999998,1.27],\"type\":\"scatter3d\",\"scene\":\"scene2\"},{\"line\":{\"color\":\"red\",\"width\":2},\"mode\":\"lines\",\"name\":\"RightHip to Core\",\"x\":[0.5720000000000001,0.6339999999999999],\"y\":[1.512,1.751],\"z\":[1.383,1.27],\"type\":\"scatter3d\",\"scene\":\"scene2\"},{\"line\":{\"color\":\"red\",\"width\":2},\"mode\":\"lines\",\"name\":\"Core to Neck\",\"x\":[0.6339999999999999,0.8780000000000001],\"y\":[1.751,1.988],\"z\":[1.27,1.355],\"type\":\"scatter3d\",\"scene\":\"scene2\"},{\"line\":{\"color\":\"red\",\"width\":2},\"mode\":\"lines\",\"name\":\"Neck to Head\",\"x\":[0.8780000000000001,1.024],\"y\":[1.988,2.06],\"z\":[1.355,1.4980000000000002],\"type\":\"scatter3d\",\"scene\":\"scene2\"},{\"line\":{\"color\":\"red\",\"width\":2},\"mode\":\"lines\",\"name\":\"Neck to LeftShoulder\",\"x\":[0.8780000000000001,0.9460000000000002],\"y\":[1.988,1.955],\"z\":[1.355,1.2850000000000001],\"type\":\"scatter3d\",\"scene\":\"scene2\"},{\"line\":{\"color\":\"red\",\"width\":2},\"mode\":\"lines\",\"name\":\"Neck to RightShoulder\",\"x\":[0.8780000000000001,0.7210000000000001],\"y\":[1.988,2.036],\"z\":[1.355,1.488],\"type\":\"scatter3d\",\"scene\":\"scene2\"},{\"line\":{\"color\":\"red\",\"width\":2},\"mode\":\"lines\",\"name\":\"LeftShoulder to LeftElbow\",\"x\":[0.9460000000000002,1.0699999999999998],\"y\":[1.955,1.703],\"z\":[1.2850000000000001,1.162],\"type\":\"scatter3d\",\"scene\":\"scene2\"},{\"line\":{\"color\":\"red\",\"width\":2},\"mode\":\"lines\",\"name\":\"RightShoulder to RightElbow\",\"x\":[0.7210000000000001,0.4849999999999999],\"y\":[2.036,1.814],\"z\":[1.488,1.4289999999999998],\"type\":\"scatter3d\",\"scene\":\"scene2\"},{\"line\":{\"color\":\"red\",\"width\":2},\"mode\":\"lines\",\"name\":\"LeftElbow to LeftWrist\",\"x\":[1.0699999999999998,0.9830000000000001],\"y\":[1.703,1.493],\"z\":[1.162,1.439],\"type\":\"scatter3d\",\"scene\":\"scene2\"},{\"line\":{\"color\":\"red\",\"width\":2},\"mode\":\"lines\",\"name\":\"RightElbow to RightWrist\",\"x\":[0.4849999999999999,0.69],\"y\":[1.814,1.622],\"z\":[1.4289999999999998,1.557],\"type\":\"scatter3d\",\"scene\":\"scene2\"},{\"line\":{\"color\":\"red\",\"width\":2},\"mode\":\"lines\",\"name\":\"LeftWrist to LeftHand\",\"x\":[0.9830000000000001,1.064],\"y\":[1.493,1.594],\"z\":[1.439,1.5070000000000001],\"type\":\"scatter3d\",\"scene\":\"scene2\"},{\"line\":{\"color\":\"red\",\"width\":2},\"mode\":\"lines\",\"name\":\"RightWrist to RightHand\",\"x\":[0.69,0.7269999999999999],\"y\":[1.622,1.647],\"z\":[1.557,1.6269999999999998],\"type\":\"scatter3d\",\"scene\":\"scene2\"},{\"line\":{\"color\":\"red\",\"width\":2},\"mode\":\"lines\",\"name\":\"LeftHand to LeftFingers\",\"x\":[1.064,1.056],\"y\":[1.594,1.562],\"z\":[1.5070000000000001,1.5790000000000002],\"type\":\"scatter3d\",\"scene\":\"scene2\"},{\"line\":{\"color\":\"red\",\"width\":2},\"mode\":\"lines\",\"name\":\"RightHand to RightFingers\",\"x\":[0.7269999999999999,0.7709999999999999],\"y\":[1.647,1.589],\"z\":[1.6269999999999998,1.6019999999999999],\"type\":\"scatter3d\",\"scene\":\"scene2\"}],                        {\"template\":{\"data\":{\"histogram2dcontour\":[{\"type\":\"histogram2dcontour\",\"colorbar\":{\"outlinewidth\":0,\"ticks\":\"\"},\"colorscale\":[[0.0,\"#0d0887\"],[0.1111111111111111,\"#46039f\"],[0.2222222222222222,\"#7201a8\"],[0.3333333333333333,\"#9c179e\"],[0.4444444444444444,\"#bd3786\"],[0.5555555555555556,\"#d8576b\"],[0.6666666666666666,\"#ed7953\"],[0.7777777777777778,\"#fb9f3a\"],[0.8888888888888888,\"#fdca26\"],[1.0,\"#f0f921\"]]}],\"choropleth\":[{\"type\":\"choropleth\",\"colorbar\":{\"outlinewidth\":0,\"ticks\":\"\"}}],\"histogram2d\":[{\"type\":\"histogram2d\",\"colorbar\":{\"outlinewidth\":0,\"ticks\":\"\"},\"colorscale\":[[0.0,\"#0d0887\"],[0.1111111111111111,\"#46039f\"],[0.2222222222222222,\"#7201a8\"],[0.3333333333333333,\"#9c179e\"],[0.4444444444444444,\"#bd3786\"],[0.5555555555555556,\"#d8576b\"],[0.6666666666666666,\"#ed7953\"],[0.7777777777777778,\"#fb9f3a\"],[0.8888888888888888,\"#fdca26\"],[1.0,\"#f0f921\"]]}],\"heatmap\":[{\"type\":\"heatmap\",\"colorbar\":{\"outlinewidth\":0,\"ticks\":\"\"},\"colorscale\":[[0.0,\"#0d0887\"],[0.1111111111111111,\"#46039f\"],[0.2222222222222222,\"#7201a8\"],[0.3333333333333333,\"#9c179e\"],[0.4444444444444444,\"#bd3786\"],[0.5555555555555556,\"#d8576b\"],[0.6666666666666666,\"#ed7953\"],[0.7777777777777778,\"#fb9f3a\"],[0.8888888888888888,\"#fdca26\"],[1.0,\"#f0f921\"]]}],\"heatmapgl\":[{\"type\":\"heatmapgl\",\"colorbar\":{\"outlinewidth\":0,\"ticks\":\"\"},\"colorscale\":[[0.0,\"#0d0887\"],[0.1111111111111111,\"#46039f\"],[0.2222222222222222,\"#7201a8\"],[0.3333333333333333,\"#9c179e\"],[0.4444444444444444,\"#bd3786\"],[0.5555555555555556,\"#d8576b\"],[0.6666666666666666,\"#ed7953\"],[0.7777777777777778,\"#fb9f3a\"],[0.8888888888888888,\"#fdca26\"],[1.0,\"#f0f921\"]]}],\"contourcarpet\":[{\"type\":\"contourcarpet\",\"colorbar\":{\"outlinewidth\":0,\"ticks\":\"\"}}],\"contour\":[{\"type\":\"contour\",\"colorbar\":{\"outlinewidth\":0,\"ticks\":\"\"},\"colorscale\":[[0.0,\"#0d0887\"],[0.1111111111111111,\"#46039f\"],[0.2222222222222222,\"#7201a8\"],[0.3333333333333333,\"#9c179e\"],[0.4444444444444444,\"#bd3786\"],[0.5555555555555556,\"#d8576b\"],[0.6666666666666666,\"#ed7953\"],[0.7777777777777778,\"#fb9f3a\"],[0.8888888888888888,\"#fdca26\"],[1.0,\"#f0f921\"]]}],\"surface\":[{\"type\":\"surface\",\"colorbar\":{\"outlinewidth\":0,\"ticks\":\"\"},\"colorscale\":[[0.0,\"#0d0887\"],[0.1111111111111111,\"#46039f\"],[0.2222222222222222,\"#7201a8\"],[0.3333333333333333,\"#9c179e\"],[0.4444444444444444,\"#bd3786\"],[0.5555555555555556,\"#d8576b\"],[0.6666666666666666,\"#ed7953\"],[0.7777777777777778,\"#fb9f3a\"],[0.8888888888888888,\"#fdca26\"],[1.0,\"#f0f921\"]]}],\"mesh3d\":[{\"type\":\"mesh3d\",\"colorbar\":{\"outlinewidth\":0,\"ticks\":\"\"}}],\"scatter\":[{\"fillpattern\":{\"fillmode\":\"overlay\",\"size\":10,\"solidity\":0.2},\"type\":\"scatter\"}],\"parcoords\":[{\"type\":\"parcoords\",\"line\":{\"colorbar\":{\"outlinewidth\":0,\"ticks\":\"\"}}}],\"scatterpolargl\":[{\"type\":\"scatterpolargl\",\"marker\":{\"colorbar\":{\"outlinewidth\":0,\"ticks\":\"\"}}}],\"bar\":[{\"error_x\":{\"color\":\"#2a3f5f\"},\"error_y\":{\"color\":\"#2a3f5f\"},\"marker\":{\"line\":{\"color\":\"#E5ECF6\",\"width\":0.5},\"pattern\":{\"fillmode\":\"overlay\",\"size\":10,\"solidity\":0.2}},\"type\":\"bar\"}],\"scattergeo\":[{\"type\":\"scattergeo\",\"marker\":{\"colorbar\":{\"outlinewidth\":0,\"ticks\":\"\"}}}],\"scatterpolar\":[{\"type\":\"scatterpolar\",\"marker\":{\"colorbar\":{\"outlinewidth\":0,\"ticks\":\"\"}}}],\"histogram\":[{\"marker\":{\"pattern\":{\"fillmode\":\"overlay\",\"size\":10,\"solidity\":0.2}},\"type\":\"histogram\"}],\"scattergl\":[{\"type\":\"scattergl\",\"marker\":{\"colorbar\":{\"outlinewidth\":0,\"ticks\":\"\"}}}],\"scatter3d\":[{\"type\":\"scatter3d\",\"line\":{\"colorbar\":{\"outlinewidth\":0,\"ticks\":\"\"}},\"marker\":{\"colorbar\":{\"outlinewidth\":0,\"ticks\":\"\"}}}],\"scattermapbox\":[{\"type\":\"scattermapbox\",\"marker\":{\"colorbar\":{\"outlinewidth\":0,\"ticks\":\"\"}}}],\"scatterternary\":[{\"type\":\"scatterternary\",\"marker\":{\"colorbar\":{\"outlinewidth\":0,\"ticks\":\"\"}}}],\"scattercarpet\":[{\"type\":\"scattercarpet\",\"marker\":{\"colorbar\":{\"outlinewidth\":0,\"ticks\":\"\"}}}],\"carpet\":[{\"aaxis\":{\"endlinecolor\":\"#2a3f5f\",\"gridcolor\":\"white\",\"linecolor\":\"white\",\"minorgridcolor\":\"white\",\"startlinecolor\":\"#2a3f5f\"},\"baxis\":{\"endlinecolor\":\"#2a3f5f\",\"gridcolor\":\"white\",\"linecolor\":\"white\",\"minorgridcolor\":\"white\",\"startlinecolor\":\"#2a3f5f\"},\"type\":\"carpet\"}],\"table\":[{\"cells\":{\"fill\":{\"color\":\"#EBF0F8\"},\"line\":{\"color\":\"white\"}},\"header\":{\"fill\":{\"color\":\"#C8D4E3\"},\"line\":{\"color\":\"white\"}},\"type\":\"table\"}],\"barpolar\":[{\"marker\":{\"line\":{\"color\":\"#E5ECF6\",\"width\":0.5},\"pattern\":{\"fillmode\":\"overlay\",\"size\":10,\"solidity\":0.2}},\"type\":\"barpolar\"}],\"pie\":[{\"automargin\":true,\"type\":\"pie\"}]},\"layout\":{\"autotypenumbers\":\"strict\",\"colorway\":[\"#636efa\",\"#EF553B\",\"#00cc96\",\"#ab63fa\",\"#FFA15A\",\"#19d3f3\",\"#FF6692\",\"#B6E880\",\"#FF97FF\",\"#FECB52\"],\"font\":{\"color\":\"#2a3f5f\"},\"hovermode\":\"closest\",\"hoverlabel\":{\"align\":\"left\"},\"paper_bgcolor\":\"white\",\"plot_bgcolor\":\"#E5ECF6\",\"polar\":{\"bgcolor\":\"#E5ECF6\",\"angularaxis\":{\"gridcolor\":\"white\",\"linecolor\":\"white\",\"ticks\":\"\"},\"radialaxis\":{\"gridcolor\":\"white\",\"linecolor\":\"white\",\"ticks\":\"\"}},\"ternary\":{\"bgcolor\":\"#E5ECF6\",\"aaxis\":{\"gridcolor\":\"white\",\"linecolor\":\"white\",\"ticks\":\"\"},\"baxis\":{\"gridcolor\":\"white\",\"linecolor\":\"white\",\"ticks\":\"\"},\"caxis\":{\"gridcolor\":\"white\",\"linecolor\":\"white\",\"ticks\":\"\"}},\"coloraxis\":{\"colorbar\":{\"outlinewidth\":0,\"ticks\":\"\"}},\"colorscale\":{\"sequential\":[[0.0,\"#0d0887\"],[0.1111111111111111,\"#46039f\"],[0.2222222222222222,\"#7201a8\"],[0.3333333333333333,\"#9c179e\"],[0.4444444444444444,\"#bd3786\"],[0.5555555555555556,\"#d8576b\"],[0.6666666666666666,\"#ed7953\"],[0.7777777777777778,\"#fb9f3a\"],[0.8888888888888888,\"#fdca26\"],[1.0,\"#f0f921\"]],\"sequentialminus\":[[0.0,\"#0d0887\"],[0.1111111111111111,\"#46039f\"],[0.2222222222222222,\"#7201a8\"],[0.3333333333333333,\"#9c179e\"],[0.4444444444444444,\"#bd3786\"],[0.5555555555555556,\"#d8576b\"],[0.6666666666666666,\"#ed7953\"],[0.7777777777777778,\"#fb9f3a\"],[0.8888888888888888,\"#fdca26\"],[1.0,\"#f0f921\"]],\"diverging\":[[0,\"#8e0152\"],[0.1,\"#c51b7d\"],[0.2,\"#de77ae\"],[0.3,\"#f1b6da\"],[0.4,\"#fde0ef\"],[0.5,\"#f7f7f7\"],[0.6,\"#e6f5d0\"],[0.7,\"#b8e186\"],[0.8,\"#7fbc41\"],[0.9,\"#4d9221\"],[1,\"#276419\"]]},\"xaxis\":{\"gridcolor\":\"white\",\"linecolor\":\"white\",\"ticks\":\"\",\"title\":{\"standoff\":15},\"zerolinecolor\":\"white\",\"automargin\":true,\"zerolinewidth\":2},\"yaxis\":{\"gridcolor\":\"white\",\"linecolor\":\"white\",\"ticks\":\"\",\"title\":{\"standoff\":15},\"zerolinecolor\":\"white\",\"automargin\":true,\"zerolinewidth\":2},\"scene\":{\"xaxis\":{\"backgroundcolor\":\"#E5ECF6\",\"gridcolor\":\"white\",\"linecolor\":\"white\",\"showbackground\":true,\"ticks\":\"\",\"zerolinecolor\":\"white\",\"gridwidth\":2},\"yaxis\":{\"backgroundcolor\":\"#E5ECF6\",\"gridcolor\":\"white\",\"linecolor\":\"white\",\"showbackground\":true,\"ticks\":\"\",\"zerolinecolor\":\"white\",\"gridwidth\":2},\"zaxis\":{\"backgroundcolor\":\"#E5ECF6\",\"gridcolor\":\"white\",\"linecolor\":\"white\",\"showbackground\":true,\"ticks\":\"\",\"zerolinecolor\":\"white\",\"gridwidth\":2}},\"shapedefaults\":{\"line\":{\"color\":\"#2a3f5f\"}},\"annotationdefaults\":{\"arrowcolor\":\"#2a3f5f\",\"arrowhead\":0,\"arrowwidth\":1},\"geo\":{\"bgcolor\":\"white\",\"landcolor\":\"#E5ECF6\",\"subunitcolor\":\"white\",\"showland\":true,\"showlakes\":true,\"lakecolor\":\"white\"},\"title\":{\"x\":0.05},\"mapbox\":{\"style\":\"light\"}}},\"scene\":{\"domain\":{\"x\":[0.0,0.45],\"y\":[0.0,1.0]}},\"scene2\":{\"domain\":{\"x\":[0.55,1.0],\"y\":[0.0,1.0]}},\"annotations\":[{\"font\":{\"size\":16},\"showarrow\":false,\"text\":\"Player 0\",\"x\":0.225,\"xanchor\":\"center\",\"xref\":\"paper\",\"y\":1.0,\"yanchor\":\"bottom\",\"yref\":\"paper\"},{\"font\":{\"size\":16},\"showarrow\":false,\"text\":\"Player 1\",\"x\":0.775,\"xanchor\":\"center\",\"xref\":\"paper\",\"y\":1.0,\"yanchor\":\"bottom\",\"yref\":\"paper\"}],\"title\":{\"text\":\"Both Players\"},\"height\":600,\"width\":1200},                        {\"responsive\": true}                    ).then(function(){\n",
       "                            \n",
       "var gd = document.getElementById('0f789339-ab62-4b8c-afb8-ba10015e417c');\n",
       "var x = new MutationObserver(function (mutations, observer) {{\n",
       "        var display = window.getComputedStyle(gd).display;\n",
       "        if (!display || display === 'none') {{\n",
       "            console.log([gd, 'removed!']);\n",
       "            Plotly.purge(gd);\n",
       "            observer.disconnect();\n",
       "        }}\n",
       "}});\n",
       "\n",
       "// Listen for the removal of the full notebook cells\n",
       "var notebookContainer = gd.closest('#notebook-container');\n",
       "if (notebookContainer) {{\n",
       "    x.observe(notebookContainer, {childList: true});\n",
       "}}\n",
       "\n",
       "// Listen for the clearing of the current output cell\n",
       "var outputEl = gd.closest('.output');\n",
       "if (outputEl) {{\n",
       "    x.observe(outputEl, {childList: true});\n",
       "}}\n",
       "\n",
       "                        })                };                });            </script>        </div>"
      ]
     },
     "metadata": {},
     "output_type": "display_data"
    }
   ],
   "source": [
    "fig = plot_both_players_plotly((decode_position(honey)))\n",
    "fig.show()"
   ]
  },
  {
   "cell_type": "code",
   "execution_count": 489,
   "id": "6942f17b-a553-4dc9-ae1d-3faeae5b55dc",
   "metadata": {},
   "outputs": [],
   "source": [
    "# import numpy as np\n",
    "# from scipy.spatial.transform import Rotation\n",
    "\n",
    "# class Position:\n",
    "#     def __init__(self, coords_dict):\n",
    "#         self.coords_dict = coords_dict\n",
    "\n",
    "#     def __getitem__(self, key):\n",
    "#         return self.coords_dict[key]\n",
    "\n",
    "#     def items(self):\n",
    "#         return self.coords_dict.items()\n",
    "\n",
    "# def mirror_position(pos):\n",
    "#     mirrored = Position({k: np.array([-v[0], v[1], v[2]]) for k, v in pos.items()})\n",
    "#     return mirrored\n",
    "\n",
    "# def swap_players(pos):\n",
    "#     swapped = Position({(1-k[0], k[1]): v for k, v in pos.items()})\n",
    "#     return swapped\n",
    "\n",
    "# def center(pos):\n",
    "#     return (pos[(0, 0)] + pos[(1, 0)]) / 2  # Assuming joint 0 is the core\n",
    "\n",
    "# def heading(pos):\n",
    "#     return pos[(1, 0)] - pos[(0, 0)]  # Vector from player 0 core to player 1 core\n",
    "\n",
    "# def normal_rotation(pos):\n",
    "#     h = heading(pos)\n",
    "#     return np.arctan2(h[2], h[0])\n",
    "\n",
    "# def translate(pos, offset):\n",
    "#     translated = Position({k: v + offset for k, v in pos.items()})\n",
    "#     return translated\n",
    "\n",
    "# def rotate(pos, angle):\n",
    "#     r = Rotation.from_rotvec([0, angle, 0])\n",
    "#     rotated = Position({k: r.apply(v) for k, v in pos.items()})\n",
    "#     return rotated\n",
    "\n",
    "# def orient_canonically(pos, should_mirror=False):\n",
    "#     if should_mirror:\n",
    "#         pos = mirror_position(pos)\n",
    "    \n",
    "#     # Center the position\n",
    "#     c = center(pos)\n",
    "#     pos = translate(pos, -c)\n",
    "    \n",
    "#     # Rotate to align with x-axis\n",
    "#     angle = normal_rotation(pos)\n",
    "#     pos = rotate(pos, -angle)\n",
    "    \n",
    "#     return pos\n",
    "\n",
    "# def basically_same(pos1, pos2, tolerance=0.04):\n",
    "#     return all(np.sum((pos1[k] - pos2[k])**2) < tolerance for k in pos1.coords_dict.keys())\n",
    "\n",
    "# def positions_are_equivalent(pos1, pos2):\n",
    "#     # Try without mirroring\n",
    "#     oriented1 = orient_canonically(pos1)\n",
    "#     oriented2 = orient_canonically(pos2)\n",
    "    \n",
    "#     if basically_same(oriented1, oriented2):\n",
    "#         return True\n",
    "    \n",
    "#     # Try with mirroring\n",
    "#     oriented1_mirrored = orient_canonically(pos1, should_mirror=True)\n",
    "    \n",
    "#     if basically_same(oriented1_mirrored, oriented2):\n",
    "#         return True\n",
    "    \n",
    "#     # Try with player swapping\n",
    "#     oriented1_swapped = orient_canonically(swap_players(pos1))\n",
    "    \n",
    "#     if basically_same(oriented1_swapped, oriented2):\n",
    "#         return True\n",
    "    \n",
    "#     # Try with both mirroring and player swapping\n",
    "#     oriented1_mirrored_swapped = orient_canonically(swap_players(pos1), should_mirror=True)\n",
    "    \n",
    "#     if basically_same(oriented1_mirrored_swapped, oriented2):\n",
    "#         return True\n",
    "    \n",
    "#     return False\n",
    "\n",
    "# # Example usage:\n",
    "# pos1 = Position(decode_position(imanari))\n",
    "# pos2 = Position(decode_position(honey))\n",
    "\n",
    "# result = positions_are_equivalent(pos1, pos2)\n",
    "# print(f\"Positions are equivalent: {result}\")"
   ]
  },
  {
   "cell_type": "code",
   "execution_count": 498,
   "id": "4fc30516-8209-4593-a699-8e736c701f87",
   "metadata": {},
   "outputs": [
    {
     "data": {
      "text/html": [
       "<div>\n",
       "<style scoped>\n",
       "    .dataframe tbody tr th:only-of-type {\n",
       "        vertical-align: middle;\n",
       "    }\n",
       "\n",
       "    .dataframe tbody tr th {\n",
       "        vertical-align: top;\n",
       "    }\n",
       "\n",
       "    .dataframe thead th {\n",
       "        text-align: right;\n",
       "    }\n",
       "</style>\n",
       "<table border=\"1\" class=\"dataframe\">\n",
       "  <thead>\n",
       "    <tr style=\"text-align: right;\">\n",
       "      <th></th>\n",
       "      <th>description</th>\n",
       "      <th>properties</th>\n",
       "      <th>tags</th>\n",
       "      <th>code</th>\n",
       "      <th>is_position</th>\n",
       "      <th>is_transition</th>\n",
       "      <th>start_position</th>\n",
       "      <th>end_position</th>\n",
       "      <th>trans_start_node</th>\n",
       "      <th>trans_end_node</th>\n",
       "    </tr>\n",
       "  </thead>\n",
       "  <tbody>\n",
       "    <tr>\n",
       "      <th>130</th>\n",
       "      <td>back step pass</td>\n",
       "      <td>NaN</td>\n",
       "      <td>pass half_guard twister_side bottom_turned_in ...</td>\n",
       "      <td>q7aEHECHdUydsXaEKUCCaIz9tda0JzCAb6AvxUe2GxBZga...</td>\n",
       "      <td>1</td>\n",
       "      <td>0</td>\n",
       "      <td>NaN</td>\n",
       "      <td>NaN</td>\n",
       "      <td>NaN</td>\n",
       "      <td>NaN</td>\n",
       "    </tr>\n",
       "  </tbody>\n",
       "</table>\n",
       "</div>"
      ],
      "text/plain": [
       "        description properties  \\\n",
       "130  back step pass        NaN   \n",
       "\n",
       "                                                  tags  \\\n",
       "130  pass half_guard twister_side bottom_turned_in ...   \n",
       "\n",
       "                                                  code  is_position  \\\n",
       "130  q7aEHECHdUydsXaEKUCCaIz9tda0JzCAb6AvxUe2GxBZga...            1   \n",
       "\n",
       "     is_transition start_position end_position  trans_start_node  \\\n",
       "130              0            NaN          NaN               NaN   \n",
       "\n",
       "     trans_end_node  \n",
       "130             NaN  "
      ]
     },
     "execution_count": 498,
     "metadata": {},
     "output_type": "execute_result"
    }
   ],
   "source": [
    "positions[positions['description'] == 'back step pass']#['code'].iloc[0]"
   ]
  },
  {
   "cell_type": "code",
   "execution_count": 499,
   "id": "3b5ce91a-add2-41ad-8406-051096a95d45",
   "metadata": {},
   "outputs": [
    {
     "data": {
      "text/html": [
       "<div>\n",
       "<style scoped>\n",
       "    .dataframe tbody tr th:only-of-type {\n",
       "        vertical-align: middle;\n",
       "    }\n",
       "\n",
       "    .dataframe tbody tr th {\n",
       "        vertical-align: top;\n",
       "    }\n",
       "\n",
       "    .dataframe thead th {\n",
       "        text-align: right;\n",
       "    }\n",
       "</style>\n",
       "<table border=\"1\" class=\"dataframe\">\n",
       "  <thead>\n",
       "    <tr style=\"text-align: right;\">\n",
       "      <th></th>\n",
       "      <th>description</th>\n",
       "      <th>properties</th>\n",
       "      <th>tags</th>\n",
       "      <th>code</th>\n",
       "      <th>is_position</th>\n",
       "      <th>is_transition</th>\n",
       "      <th>start_position</th>\n",
       "      <th>end_position</th>\n",
       "      <th>trans_start_node</th>\n",
       "      <th>trans_end_node</th>\n",
       "    </tr>\n",
       "  </thead>\n",
       "  <tbody>\n",
       "    <tr>\n",
       "      <th>951</th>\n",
       "      <td>top tries to free leg</td>\n",
       "      <td>top</td>\n",
       "      <td>NaN</td>\n",
       "      <td>['AzaEUCxrdUF0EjaEUsy7aIGXDfa0TCzrb6G9CFe2N3D8...</td>\n",
       "      <td>0</td>\n",
       "      <td>1</td>\n",
       "      <td>AzaEUCxrdUF0EjaEUsy7aIGXDfa0TCzrb6G9CFe2N3D8ga...</td>\n",
       "      <td>AWc3JYwIdOE7DvaELgyvaEF3CSbOLJyHb2GcEIh7NPEzd4...</td>\n",
       "      <td>AzaEUCxrdUF0EjaEUsy7aIGXDfa0TCzrb6G9CFe2N3D8ga...</td>\n",
       "      <td>AWc3KiwIdOFrDvaELAyvaEGnCSbOL3yHb2GwEIh7N9Ezd4...</td>\n",
       "    </tr>\n",
       "  </tbody>\n",
       "</table>\n",
       "</div>"
      ],
      "text/plain": [
       "               description properties tags  \\\n",
       "951  top tries to free leg        top  NaN   \n",
       "\n",
       "                                                  code  is_position  \\\n",
       "951  ['AzaEUCxrdUF0EjaEUsy7aIGXDfa0TCzrb6G9CFe2N3D8...            0   \n",
       "\n",
       "     is_transition                                     start_position  \\\n",
       "951              1  AzaEUCxrdUF0EjaEUsy7aIGXDfa0TCzrb6G9CFe2N3D8ga...   \n",
       "\n",
       "                                          end_position  \\\n",
       "951  AWc3JYwIdOE7DvaELgyvaEF3CSbOLJyHb2GcEIh7NPEzd4...   \n",
       "\n",
       "                                      trans_start_node  \\\n",
       "951  AzaEUCxrdUF0EjaEUsy7aIGXDfa0TCzrb6G9CFe2N3D8ga...   \n",
       "\n",
       "                                        trans_end_node  \n",
       "951  AWc3KiwIdOFrDvaELAyvaEGnCSbOL3yHb2GwEIh7N9Ezd4...  "
      ]
     },
     "execution_count": 499,
     "metadata": {},
     "output_type": "execute_result"
    }
   ],
   "source": [
    "transitions[transitions['description'] == 'top tries to free leg']"
   ]
  },
  {
   "cell_type": "code",
   "execution_count": null,
   "id": "adf3e774-5e78-44a7-83ee-a0f030f94813",
   "metadata": {},
   "outputs": [],
   "source": []
  }
 ],
 "metadata": {
  "kernelspec": {
   "display_name": "Python 3 (ipykernel)",
   "language": "python",
   "name": "python3"
  },
  "language_info": {
   "codemirror_mode": {
    "name": "ipython",
    "version": 3
   },
   "file_extension": ".py",
   "mimetype": "text/x-python",
   "name": "python",
   "nbconvert_exporter": "python",
   "pygments_lexer": "ipython3",
   "version": "3.12.4"
  }
 },
 "nbformat": 4,
 "nbformat_minor": 5
}
